{
  "cells": [
    {
      "cell_type": "markdown",
      "id": "3a622dc1-141f-4a96-a3ad-7183b04d685c",
      "metadata": {
        "id": "3a622dc1-141f-4a96-a3ad-7183b04d685c"
      },
      "source": [
        "# Prototype 1 - BM25 3/3 Indexes - Correct Result"
      ]
    },
    {
      "cell_type": "markdown",
      "source": [
        "\n",
        "\n",
        "---\n",
        "\n",
        "\n",
        "\n",
        "---\n",
        "\n"
      ],
      "metadata": {
        "id": "Iw7UbNHVgpGG"
      },
      "id": "Iw7UbNHVgpGG"
    },
    {
      "cell_type": "markdown",
      "source": [
        "## Future Potential Adjustments:\n",
        "\n",
        "\n",
        "*   Optimization - apply multi-stage retrieval system\n",
        "\n"
      ],
      "metadata": {
        "id": "BYas5B0yG6Z5"
      },
      "id": "BYas5B0yG6Z5"
    },
    {
      "cell_type": "markdown",
      "source": [
        "\n",
        "\n",
        "---\n",
        "\n",
        "\n",
        "\n",
        "---\n",
        "\n"
      ],
      "metadata": {
        "id": "38eZxB-qgqz_"
      },
      "id": "38eZxB-qgqz_"
    },
    {
      "cell_type": "markdown",
      "source": [
        "# Imports & Installs"
      ],
      "metadata": {
        "id": "HvMpDEqxg1H4"
      },
      "id": "HvMpDEqxg1H4"
    },
    {
      "cell_type": "code",
      "execution_count": 1,
      "id": "09e327a9-96cb-40c3-8ba7-b32af51e7085",
      "metadata": {
        "id": "09e327a9-96cb-40c3-8ba7-b32af51e7085"
      },
      "outputs": [],
      "source": [
        "import pandas as pd\n",
        "from sklearn.feature_extraction.text import CountVectorizer\n",
        "import numpy as np\n",
        "import nltk\n",
        "from nltk.corpus import stopwords\n",
        "\n",
        "from nltk.stem import WordNetLemmatizer\n",
        "\n",
        "from nltk.stem.porter import PorterStemmer"
      ]
    },
    {
      "cell_type": "code",
      "execution_count": 2,
      "id": "7ee49474-ae43-4307-bcb3-d2697673189e",
      "metadata": {
        "colab": {
          "base_uri": "https://localhost:8080/"
        },
        "id": "7ee49474-ae43-4307-bcb3-d2697673189e",
        "outputId": "037b8f73-424f-4956-fbdd-4fc2b100c81a"
      },
      "outputs": [
        {
          "output_type": "stream",
          "name": "stdout",
          "text": [
            "Requirement already satisfied: nltk in /usr/local/lib/python3.7/dist-packages (3.2.5)\n",
            "Requirement already satisfied: six in /usr/local/lib/python3.7/dist-packages (from nltk) (1.15.0)\n"
          ]
        }
      ],
      "source": [
        "!pip install nltk"
      ]
    },
    {
      "cell_type": "code",
      "execution_count": 3,
      "id": "59cb88ea-8798-42c8-aecc-f1ed94f0689f",
      "metadata": {
        "colab": {
          "base_uri": "https://localhost:8080/"
        },
        "id": "59cb88ea-8798-42c8-aecc-f1ed94f0689f",
        "outputId": "0512c5ff-f184-40ec-b0c9-0bcdc0730ec9"
      },
      "outputs": [
        {
          "output_type": "stream",
          "name": "stdout",
          "text": [
            "[nltk_data] Downloading package omw-1.4 to /root/nltk_data...\n",
            "[nltk_data]   Package omw-1.4 is already up-to-date!\n"
          ]
        },
        {
          "output_type": "execute_result",
          "data": {
            "text/plain": [
              "True"
            ]
          },
          "metadata": {},
          "execution_count": 3
        }
      ],
      "source": [
        "nltk.download('omw-1.4')"
      ]
    },
    {
      "cell_type": "code",
      "execution_count": 4,
      "id": "4702d94f-7f1f-4f59-8213-9e95f568dcc9",
      "metadata": {
        "colab": {
          "base_uri": "https://localhost:8080/"
        },
        "id": "4702d94f-7f1f-4f59-8213-9e95f568dcc9",
        "outputId": "97364f98-8ce1-4177-b696-308d3234138e"
      },
      "outputs": [
        {
          "output_type": "stream",
          "name": "stdout",
          "text": [
            "[nltk_data] Downloading package stopwords to /root/nltk_data...\n",
            "[nltk_data]   Package stopwords is already up-to-date!\n"
          ]
        },
        {
          "output_type": "execute_result",
          "data": {
            "text/plain": [
              "True"
            ]
          },
          "metadata": {},
          "execution_count": 4
        }
      ],
      "source": [
        "nltk.download('stopwords')"
      ]
    },
    {
      "cell_type": "code",
      "execution_count": 5,
      "id": "f1beacd2-c362-4b18-b59c-27057e9e6111",
      "metadata": {
        "colab": {
          "base_uri": "https://localhost:8080/"
        },
        "id": "f1beacd2-c362-4b18-b59c-27057e9e6111",
        "outputId": "4cb18cf7-c06e-413c-d7da-4a1c07eade73"
      },
      "outputs": [
        {
          "output_type": "stream",
          "name": "stdout",
          "text": [
            "[nltk_data] Downloading package wordnet to /root/nltk_data...\n",
            "[nltk_data]   Package wordnet is already up-to-date!\n"
          ]
        },
        {
          "output_type": "execute_result",
          "data": {
            "text/plain": [
              "True"
            ]
          },
          "metadata": {},
          "execution_count": 5
        }
      ],
      "source": [
        "nltk.download('wordnet')"
      ]
    },
    {
      "cell_type": "markdown",
      "source": [
        "\n",
        "\n",
        "---\n",
        "\n",
        "\n",
        "\n",
        "---\n",
        "\n"
      ],
      "metadata": {
        "id": "vTwphSVehZDf"
      },
      "id": "vTwphSVehZDf"
    },
    {
      "cell_type": "markdown",
      "source": [
        "# Dataset"
      ],
      "metadata": {
        "id": "HRsVZFRyhZcB"
      },
      "id": "HRsVZFRyhZcB"
    },
    {
      "cell_type": "code",
      "execution_count": 6,
      "id": "4088f86d-f1db-4516-86e6-b498b288252b",
      "metadata": {
        "colab": {
          "base_uri": "https://localhost:8080/",
          "height": 721
        },
        "id": "4088f86d-f1db-4516-86e6-b498b288252b",
        "outputId": "3f12ec7c-74c3-4a0f-b87e-26596fa7becd"
      },
      "outputs": [
        {
          "output_type": "execute_result",
          "data": {
            "text/plain": [
              "                                         Poster_Link  \\\n",
              "0  https://m.media-amazon.com/images/M/MV5BMDFkYT...   \n",
              "1  https://m.media-amazon.com/images/M/MV5BM2MyNj...   \n",
              "2  https://m.media-amazon.com/images/M/MV5BMTMxNT...   \n",
              "3  https://m.media-amazon.com/images/M/MV5BMWMwMG...   \n",
              "4  https://m.media-amazon.com/images/M/MV5BMWU4N2...   \n",
              "\n",
              "               Series_Title Released_Year Certificate  Runtime  \\\n",
              "0  The Shawshank Redemption          1994           A  142 min   \n",
              "1             The Godfather          1972           A  175 min   \n",
              "2           The Dark Knight          2008          UA  152 min   \n",
              "3    The Godfather: Part II          1974           A  202 min   \n",
              "4              12 Angry Men          1957           U   96 min   \n",
              "\n",
              "                  Genre  IMDB_Rating  \\\n",
              "0                 Drama          9.3   \n",
              "1          Crime, Drama          9.2   \n",
              "2  Action, Crime, Drama          9.0   \n",
              "3          Crime, Drama          9.0   \n",
              "4          Crime, Drama          9.0   \n",
              "\n",
              "                                            Overview  Meta_score  \\\n",
              "0  Two imprisoned men bond over a number of years...        80.0   \n",
              "1  An organized crime dynasty's aging patriarch t...       100.0   \n",
              "2  When the menace known as the Joker wreaks havo...        84.0   \n",
              "3  The early life and career of Vito Corleone in ...        90.0   \n",
              "4  A jury holdout attempts to prevent a miscarria...        96.0   \n",
              "\n",
              "               Director           Star1           Star2          Star3  \\\n",
              "0        Frank Darabont     Tim Robbins  Morgan Freeman     Bob Gunton   \n",
              "1  Francis Ford Coppola   Marlon Brando       Al Pacino     James Caan   \n",
              "2     Christopher Nolan  Christian Bale    Heath Ledger  Aaron Eckhart   \n",
              "3  Francis Ford Coppola       Al Pacino  Robert De Niro  Robert Duvall   \n",
              "4          Sidney Lumet     Henry Fonda     Lee J. Cobb  Martin Balsam   \n",
              "\n",
              "            Star4  No_of_Votes        Gross  \n",
              "0  William Sadler      2343110   28,341,469  \n",
              "1    Diane Keaton      1620367  134,966,411  \n",
              "2   Michael Caine      2303232  534,858,444  \n",
              "3    Diane Keaton      1129952   57,300,000  \n",
              "4    John Fiedler       689845    4,360,000  "
            ],
            "text/html": [
              "\n",
              "  <div id=\"df-920913d9-a6bf-412c-866f-f9f7a9135c48\">\n",
              "    <div class=\"colab-df-container\">\n",
              "      <div>\n",
              "<style scoped>\n",
              "    .dataframe tbody tr th:only-of-type {\n",
              "        vertical-align: middle;\n",
              "    }\n",
              "\n",
              "    .dataframe tbody tr th {\n",
              "        vertical-align: top;\n",
              "    }\n",
              "\n",
              "    .dataframe thead th {\n",
              "        text-align: right;\n",
              "    }\n",
              "</style>\n",
              "<table border=\"1\" class=\"dataframe\">\n",
              "  <thead>\n",
              "    <tr style=\"text-align: right;\">\n",
              "      <th></th>\n",
              "      <th>Poster_Link</th>\n",
              "      <th>Series_Title</th>\n",
              "      <th>Released_Year</th>\n",
              "      <th>Certificate</th>\n",
              "      <th>Runtime</th>\n",
              "      <th>Genre</th>\n",
              "      <th>IMDB_Rating</th>\n",
              "      <th>Overview</th>\n",
              "      <th>Meta_score</th>\n",
              "      <th>Director</th>\n",
              "      <th>Star1</th>\n",
              "      <th>Star2</th>\n",
              "      <th>Star3</th>\n",
              "      <th>Star4</th>\n",
              "      <th>No_of_Votes</th>\n",
              "      <th>Gross</th>\n",
              "    </tr>\n",
              "  </thead>\n",
              "  <tbody>\n",
              "    <tr>\n",
              "      <th>0</th>\n",
              "      <td>https://m.media-amazon.com/images/M/MV5BMDFkYT...</td>\n",
              "      <td>The Shawshank Redemption</td>\n",
              "      <td>1994</td>\n",
              "      <td>A</td>\n",
              "      <td>142 min</td>\n",
              "      <td>Drama</td>\n",
              "      <td>9.3</td>\n",
              "      <td>Two imprisoned men bond over a number of years...</td>\n",
              "      <td>80.0</td>\n",
              "      <td>Frank Darabont</td>\n",
              "      <td>Tim Robbins</td>\n",
              "      <td>Morgan Freeman</td>\n",
              "      <td>Bob Gunton</td>\n",
              "      <td>William Sadler</td>\n",
              "      <td>2343110</td>\n",
              "      <td>28,341,469</td>\n",
              "    </tr>\n",
              "    <tr>\n",
              "      <th>1</th>\n",
              "      <td>https://m.media-amazon.com/images/M/MV5BM2MyNj...</td>\n",
              "      <td>The Godfather</td>\n",
              "      <td>1972</td>\n",
              "      <td>A</td>\n",
              "      <td>175 min</td>\n",
              "      <td>Crime, Drama</td>\n",
              "      <td>9.2</td>\n",
              "      <td>An organized crime dynasty's aging patriarch t...</td>\n",
              "      <td>100.0</td>\n",
              "      <td>Francis Ford Coppola</td>\n",
              "      <td>Marlon Brando</td>\n",
              "      <td>Al Pacino</td>\n",
              "      <td>James Caan</td>\n",
              "      <td>Diane Keaton</td>\n",
              "      <td>1620367</td>\n",
              "      <td>134,966,411</td>\n",
              "    </tr>\n",
              "    <tr>\n",
              "      <th>2</th>\n",
              "      <td>https://m.media-amazon.com/images/M/MV5BMTMxNT...</td>\n",
              "      <td>The Dark Knight</td>\n",
              "      <td>2008</td>\n",
              "      <td>UA</td>\n",
              "      <td>152 min</td>\n",
              "      <td>Action, Crime, Drama</td>\n",
              "      <td>9.0</td>\n",
              "      <td>When the menace known as the Joker wreaks havo...</td>\n",
              "      <td>84.0</td>\n",
              "      <td>Christopher Nolan</td>\n",
              "      <td>Christian Bale</td>\n",
              "      <td>Heath Ledger</td>\n",
              "      <td>Aaron Eckhart</td>\n",
              "      <td>Michael Caine</td>\n",
              "      <td>2303232</td>\n",
              "      <td>534,858,444</td>\n",
              "    </tr>\n",
              "    <tr>\n",
              "      <th>3</th>\n",
              "      <td>https://m.media-amazon.com/images/M/MV5BMWMwMG...</td>\n",
              "      <td>The Godfather: Part II</td>\n",
              "      <td>1974</td>\n",
              "      <td>A</td>\n",
              "      <td>202 min</td>\n",
              "      <td>Crime, Drama</td>\n",
              "      <td>9.0</td>\n",
              "      <td>The early life and career of Vito Corleone in ...</td>\n",
              "      <td>90.0</td>\n",
              "      <td>Francis Ford Coppola</td>\n",
              "      <td>Al Pacino</td>\n",
              "      <td>Robert De Niro</td>\n",
              "      <td>Robert Duvall</td>\n",
              "      <td>Diane Keaton</td>\n",
              "      <td>1129952</td>\n",
              "      <td>57,300,000</td>\n",
              "    </tr>\n",
              "    <tr>\n",
              "      <th>4</th>\n",
              "      <td>https://m.media-amazon.com/images/M/MV5BMWU4N2...</td>\n",
              "      <td>12 Angry Men</td>\n",
              "      <td>1957</td>\n",
              "      <td>U</td>\n",
              "      <td>96 min</td>\n",
              "      <td>Crime, Drama</td>\n",
              "      <td>9.0</td>\n",
              "      <td>A jury holdout attempts to prevent a miscarria...</td>\n",
              "      <td>96.0</td>\n",
              "      <td>Sidney Lumet</td>\n",
              "      <td>Henry Fonda</td>\n",
              "      <td>Lee J. Cobb</td>\n",
              "      <td>Martin Balsam</td>\n",
              "      <td>John Fiedler</td>\n",
              "      <td>689845</td>\n",
              "      <td>4,360,000</td>\n",
              "    </tr>\n",
              "  </tbody>\n",
              "</table>\n",
              "</div>\n",
              "      <button class=\"colab-df-convert\" onclick=\"convertToInteractive('df-920913d9-a6bf-412c-866f-f9f7a9135c48')\"\n",
              "              title=\"Convert this dataframe to an interactive table.\"\n",
              "              style=\"display:none;\">\n",
              "        \n",
              "  <svg xmlns=\"http://www.w3.org/2000/svg\" height=\"24px\"viewBox=\"0 0 24 24\"\n",
              "       width=\"24px\">\n",
              "    <path d=\"M0 0h24v24H0V0z\" fill=\"none\"/>\n",
              "    <path d=\"M18.56 5.44l.94 2.06.94-2.06 2.06-.94-2.06-.94-.94-2.06-.94 2.06-2.06.94zm-11 1L8.5 8.5l.94-2.06 2.06-.94-2.06-.94L8.5 2.5l-.94 2.06-2.06.94zm10 10l.94 2.06.94-2.06 2.06-.94-2.06-.94-.94-2.06-.94 2.06-2.06.94z\"/><path d=\"M17.41 7.96l-1.37-1.37c-.4-.4-.92-.59-1.43-.59-.52 0-1.04.2-1.43.59L10.3 9.45l-7.72 7.72c-.78.78-.78 2.05 0 2.83L4 21.41c.39.39.9.59 1.41.59.51 0 1.02-.2 1.41-.59l7.78-7.78 2.81-2.81c.8-.78.8-2.07 0-2.86zM5.41 20L4 18.59l7.72-7.72 1.47 1.35L5.41 20z\"/>\n",
              "  </svg>\n",
              "      </button>\n",
              "      \n",
              "  <style>\n",
              "    .colab-df-container {\n",
              "      display:flex;\n",
              "      flex-wrap:wrap;\n",
              "      gap: 12px;\n",
              "    }\n",
              "\n",
              "    .colab-df-convert {\n",
              "      background-color: #E8F0FE;\n",
              "      border: none;\n",
              "      border-radius: 50%;\n",
              "      cursor: pointer;\n",
              "      display: none;\n",
              "      fill: #1967D2;\n",
              "      height: 32px;\n",
              "      padding: 0 0 0 0;\n",
              "      width: 32px;\n",
              "    }\n",
              "\n",
              "    .colab-df-convert:hover {\n",
              "      background-color: #E2EBFA;\n",
              "      box-shadow: 0px 1px 2px rgba(60, 64, 67, 0.3), 0px 1px 3px 1px rgba(60, 64, 67, 0.15);\n",
              "      fill: #174EA6;\n",
              "    }\n",
              "\n",
              "    [theme=dark] .colab-df-convert {\n",
              "      background-color: #3B4455;\n",
              "      fill: #D2E3FC;\n",
              "    }\n",
              "\n",
              "    [theme=dark] .colab-df-convert:hover {\n",
              "      background-color: #434B5C;\n",
              "      box-shadow: 0px 1px 3px 1px rgba(0, 0, 0, 0.15);\n",
              "      filter: drop-shadow(0px 1px 2px rgba(0, 0, 0, 0.3));\n",
              "      fill: #FFFFFF;\n",
              "    }\n",
              "  </style>\n",
              "\n",
              "      <script>\n",
              "        const buttonEl =\n",
              "          document.querySelector('#df-920913d9-a6bf-412c-866f-f9f7a9135c48 button.colab-df-convert');\n",
              "        buttonEl.style.display =\n",
              "          google.colab.kernel.accessAllowed ? 'block' : 'none';\n",
              "\n",
              "        async function convertToInteractive(key) {\n",
              "          const element = document.querySelector('#df-920913d9-a6bf-412c-866f-f9f7a9135c48');\n",
              "          const dataTable =\n",
              "            await google.colab.kernel.invokeFunction('convertToInteractive',\n",
              "                                                     [key], {});\n",
              "          if (!dataTable) return;\n",
              "\n",
              "          const docLinkHtml = 'Like what you see? Visit the ' +\n",
              "            '<a target=\"_blank\" href=https://colab.research.google.com/notebooks/data_table.ipynb>data table notebook</a>'\n",
              "            + ' to learn more about interactive tables.';\n",
              "          element.innerHTML = '';\n",
              "          dataTable['output_type'] = 'display_data';\n",
              "          await google.colab.output.renderOutput(dataTable, element);\n",
              "          const docLink = document.createElement('div');\n",
              "          docLink.innerHTML = docLinkHtml;\n",
              "          element.appendChild(docLink);\n",
              "        }\n",
              "      </script>\n",
              "    </div>\n",
              "  </div>\n",
              "  "
            ]
          },
          "metadata": {},
          "execution_count": 6
        }
      ],
      "source": [
        "df0 = pd.read_csv('imdb_top_1000.csv') \n",
        "df = pd.read_csv('imdb_top_1000.csv')  \n",
        "df0.head()"
      ]
    },
    {
      "cell_type": "markdown",
      "id": "d0870640-273b-4514-92ac-5ce22a4c0868",
      "metadata": {
        "id": "d0870640-273b-4514-92ac-5ce22a4c0868"
      },
      "source": [
        " \n",
        "\n",
        "---\n",
        "\n",
        "\n",
        "\n",
        "---\n",
        "\n"
      ]
    },
    {
      "cell_type": "markdown",
      "metadata": {
        "id": "Upn0KHTpglgz"
      },
      "source": [
        "# Input Query"
      ],
      "id": "Upn0KHTpglgz"
    },
    {
      "cell_type": "markdown",
      "source": [
        "Please describe the film you would like to see. An example could be 'battle', 'war', 'survivor'."
      ],
      "metadata": {
        "id": "fn1tRxPwhn8N"
      },
      "id": "fn1tRxPwhn8N"
    },
    {
      "cell_type": "code",
      "execution_count": 7,
      "metadata": {
        "colab": {
          "base_uri": "https://localhost:8080/",
          "height": 112
        },
        "id": "BfV6lRxiglg_",
        "outputId": "d0a66eb8-76a9-40de-b620-b089357e7522"
      },
      "outputs": [
        {
          "output_type": "execute_result",
          "data": {
            "text/plain": [
              "      Query\n",
              "0  survivor\n",
              "1    battle"
            ],
            "text/html": [
              "\n",
              "  <div id=\"df-db496dcb-db1c-4511-8649-bd8bea853c67\">\n",
              "    <div class=\"colab-df-container\">\n",
              "      <div>\n",
              "<style scoped>\n",
              "    .dataframe tbody tr th:only-of-type {\n",
              "        vertical-align: middle;\n",
              "    }\n",
              "\n",
              "    .dataframe tbody tr th {\n",
              "        vertical-align: top;\n",
              "    }\n",
              "\n",
              "    .dataframe thead th {\n",
              "        text-align: right;\n",
              "    }\n",
              "</style>\n",
              "<table border=\"1\" class=\"dataframe\">\n",
              "  <thead>\n",
              "    <tr style=\"text-align: right;\">\n",
              "      <th></th>\n",
              "      <th>Query</th>\n",
              "    </tr>\n",
              "  </thead>\n",
              "  <tbody>\n",
              "    <tr>\n",
              "      <th>0</th>\n",
              "      <td>survivor</td>\n",
              "    </tr>\n",
              "    <tr>\n",
              "      <th>1</th>\n",
              "      <td>battle</td>\n",
              "    </tr>\n",
              "  </tbody>\n",
              "</table>\n",
              "</div>\n",
              "      <button class=\"colab-df-convert\" onclick=\"convertToInteractive('df-db496dcb-db1c-4511-8649-bd8bea853c67')\"\n",
              "              title=\"Convert this dataframe to an interactive table.\"\n",
              "              style=\"display:none;\">\n",
              "        \n",
              "  <svg xmlns=\"http://www.w3.org/2000/svg\" height=\"24px\"viewBox=\"0 0 24 24\"\n",
              "       width=\"24px\">\n",
              "    <path d=\"M0 0h24v24H0V0z\" fill=\"none\"/>\n",
              "    <path d=\"M18.56 5.44l.94 2.06.94-2.06 2.06-.94-2.06-.94-.94-2.06-.94 2.06-2.06.94zm-11 1L8.5 8.5l.94-2.06 2.06-.94-2.06-.94L8.5 2.5l-.94 2.06-2.06.94zm10 10l.94 2.06.94-2.06 2.06-.94-2.06-.94-.94-2.06-.94 2.06-2.06.94z\"/><path d=\"M17.41 7.96l-1.37-1.37c-.4-.4-.92-.59-1.43-.59-.52 0-1.04.2-1.43.59L10.3 9.45l-7.72 7.72c-.78.78-.78 2.05 0 2.83L4 21.41c.39.39.9.59 1.41.59.51 0 1.02-.2 1.41-.59l7.78-7.78 2.81-2.81c.8-.78.8-2.07 0-2.86zM5.41 20L4 18.59l7.72-7.72 1.47 1.35L5.41 20z\"/>\n",
              "  </svg>\n",
              "      </button>\n",
              "      \n",
              "  <style>\n",
              "    .colab-df-container {\n",
              "      display:flex;\n",
              "      flex-wrap:wrap;\n",
              "      gap: 12px;\n",
              "    }\n",
              "\n",
              "    .colab-df-convert {\n",
              "      background-color: #E8F0FE;\n",
              "      border: none;\n",
              "      border-radius: 50%;\n",
              "      cursor: pointer;\n",
              "      display: none;\n",
              "      fill: #1967D2;\n",
              "      height: 32px;\n",
              "      padding: 0 0 0 0;\n",
              "      width: 32px;\n",
              "    }\n",
              "\n",
              "    .colab-df-convert:hover {\n",
              "      background-color: #E2EBFA;\n",
              "      box-shadow: 0px 1px 2px rgba(60, 64, 67, 0.3), 0px 1px 3px 1px rgba(60, 64, 67, 0.15);\n",
              "      fill: #174EA6;\n",
              "    }\n",
              "\n",
              "    [theme=dark] .colab-df-convert {\n",
              "      background-color: #3B4455;\n",
              "      fill: #D2E3FC;\n",
              "    }\n",
              "\n",
              "    [theme=dark] .colab-df-convert:hover {\n",
              "      background-color: #434B5C;\n",
              "      box-shadow: 0px 1px 3px 1px rgba(0, 0, 0, 0.15);\n",
              "      filter: drop-shadow(0px 1px 2px rgba(0, 0, 0, 0.3));\n",
              "      fill: #FFFFFF;\n",
              "    }\n",
              "  </style>\n",
              "\n",
              "      <script>\n",
              "        const buttonEl =\n",
              "          document.querySelector('#df-db496dcb-db1c-4511-8649-bd8bea853c67 button.colab-df-convert');\n",
              "        buttonEl.style.display =\n",
              "          google.colab.kernel.accessAllowed ? 'block' : 'none';\n",
              "\n",
              "        async function convertToInteractive(key) {\n",
              "          const element = document.querySelector('#df-db496dcb-db1c-4511-8649-bd8bea853c67');\n",
              "          const dataTable =\n",
              "            await google.colab.kernel.invokeFunction('convertToInteractive',\n",
              "                                                     [key], {});\n",
              "          if (!dataTable) return;\n",
              "\n",
              "          const docLinkHtml = 'Like what you see? Visit the ' +\n",
              "            '<a target=\"_blank\" href=https://colab.research.google.com/notebooks/data_table.ipynb>data table notebook</a>'\n",
              "            + ' to learn more about interactive tables.';\n",
              "          element.innerHTML = '';\n",
              "          dataTable['output_type'] = 'display_data';\n",
              "          await google.colab.output.renderOutput(dataTable, element);\n",
              "          const docLink = document.createElement('div');\n",
              "          docLink.innerHTML = docLinkHtml;\n",
              "          element.appendChild(docLink);\n",
              "        }\n",
              "      </script>\n",
              "    </div>\n",
              "  </div>\n",
              "  "
            ]
          },
          "metadata": {},
          "execution_count": 7
        }
      ],
      "source": [
        "q_terms = ['survivor', 'battle']\n",
        "df_q = pd.DataFrame(q_terms, columns=['Query'])\n",
        "df_q"
      ],
      "id": "BfV6lRxiglg_"
    },
    {
      "cell_type": "markdown",
      "source": [
        "\n",
        "\n",
        "---\n",
        "\n",
        "\n",
        "\n",
        "---\n",
        "\n"
      ],
      "metadata": {
        "id": "qvbLA125iNfz"
      },
      "id": "qvbLA125iNfz"
    },
    {
      "cell_type": "markdown",
      "id": "8c2f722c-9813-4619-8de8-660678ba7066",
      "metadata": {
        "id": "8c2f722c-9813-4619-8de8-660678ba7066"
      },
      "source": [
        "# Stop Word Removal"
      ]
    },
    {
      "cell_type": "code",
      "execution_count": 8,
      "id": "e1f3391b-c4f9-45ba-a4d0-87b98eeecaae",
      "metadata": {
        "colab": {
          "base_uri": "https://localhost:8080/"
        },
        "id": "e1f3391b-c4f9-45ba-a4d0-87b98eeecaae",
        "outputId": "c288db41-6893-409c-b78d-1148b48fb207"
      },
      "outputs": [
        {
          "output_type": "execute_result",
          "data": {
            "text/plain": [
              "0      Two imprisoned men bond number years, finding ...\n",
              "1      An organized crime dynasty's aging patriarch t...\n",
              "2      When menace known Joker wreaks havoc chaos peo...\n",
              "3      The early life career Vito Corleone 1920s New ...\n",
              "4      A jury holdout attempts prevent miscarriage ju...\n",
              "                             ...                        \n",
              "995    A young New York socialite becomes interested ...\n",
              "996    Sprawling epic covering life Texas cattle ranc...\n",
              "997    In Hawaii 1941, private cruelly punished boxin...\n",
              "998    Several survivors torpedoed merchant ship Worl...\n",
              "999    A man London tries help counter-espionage Agen...\n",
              "Name: Overview, Length: 1000, dtype: object"
            ]
          },
          "metadata": {},
          "execution_count": 8
        }
      ],
      "source": [
        "stop_words = stopwords.words('english')\n",
        "df['Overview'] = df['Overview'].apply(lambda x: ' '.join([word for word in x.split() if word not in (stop_words)]))\n",
        "df_q['Query'] = df_q['Query'].apply(lambda x: ' '.join([word for word in x.split() if word not in (stop_words)]))\n",
        "\n",
        "df['Overview']"
      ]
    },
    {
      "cell_type": "markdown",
      "id": "a7cccbcf-441c-4b07-ab8b-8fcdb7063f93",
      "metadata": {
        "id": "a7cccbcf-441c-4b07-ab8b-8fcdb7063f93"
      },
      "source": [
        " \n",
        "\n",
        "---\n",
        "\n",
        "\n",
        "\n",
        "---\n",
        "\n"
      ]
    },
    {
      "cell_type": "markdown",
      "id": "3f61c27d-bb66-412a-96ca-d1b7d9a73a24",
      "metadata": {
        "id": "3f61c27d-bb66-412a-96ca-d1b7d9a73a24"
      },
      "source": [
        "# Lemmatization"
      ]
    },
    {
      "cell_type": "code",
      "execution_count": 9,
      "id": "2c5bd419-3d7f-4a3d-8373-29f4bad8aec9",
      "metadata": {
        "colab": {
          "base_uri": "https://localhost:8080/"
        },
        "id": "2c5bd419-3d7f-4a3d-8373-29f4bad8aec9",
        "outputId": "d77bbcae-e53c-4c83-ba0f-f7fc114cf39d"
      },
      "outputs": [
        {
          "output_type": "execute_result",
          "data": {
            "text/plain": [
              "0      Two imprison men bond number years, find solac...\n",
              "1      An organize crime dynasty's age patriarch tran...\n",
              "2      When menace know Joker wreak havoc chaos peopl...\n",
              "3      The early life career Vito Corleone 1920s New ...\n",
              "4      A jury holdout attempt prevent miscarriage jus...\n",
              "                             ...                        \n",
              "995    A young New York socialite become interest you...\n",
              "996    Sprawling epic cover life Texas cattle rancher...\n",
              "997    In Hawaii 1941, private cruelly punish box uni...\n",
              "998    Several survivors torpedo merchant ship World ...\n",
              "999    A man London try help counter-espionage Agent....\n",
              "Name: Overview, Length: 1000, dtype: object"
            ]
          },
          "metadata": {},
          "execution_count": 9
        }
      ],
      "source": [
        "lemmatizer = WordNetLemmatizer()\n",
        "def lemmatize_words(text):\n",
        "    words = text.split()\n",
        "    words = [lemmatizer.lemmatize(word,pos='v') for word in words]\n",
        "    return ' '.join(words)\n",
        "df['Overview'] = df['Overview'].apply(lemmatize_words)\n",
        "df_q['Query'] = df_q['Query'].apply(lemmatize_words)\n",
        "\n",
        "df['Overview']"
      ]
    },
    {
      "cell_type": "markdown",
      "id": "b649fcb1-1248-4ace-8187-498fead31869",
      "metadata": {
        "id": "b649fcb1-1248-4ace-8187-498fead31869"
      },
      "source": [
        " \n",
        "\n",
        "---\n",
        "\n",
        "\n",
        "\n",
        "---\n",
        "\n"
      ]
    },
    {
      "cell_type": "markdown",
      "id": "91c31427-215a-484e-8ccc-fb7406edbc89",
      "metadata": {
        "id": "91c31427-215a-484e-8ccc-fb7406edbc89"
      },
      "source": [
        "# Stemming"
      ]
    },
    {
      "cell_type": "code",
      "execution_count": 10,
      "id": "e4a3da77-3f96-427b-b4e7-9fffa648a414",
      "metadata": {
        "colab": {
          "base_uri": "https://localhost:8080/"
        },
        "id": "e4a3da77-3f96-427b-b4e7-9fffa648a414",
        "outputId": "7dff324c-1a41-4999-fda2-6a96e24fcd0b"
      },
      "outputs": [
        {
          "output_type": "execute_result",
          "data": {
            "text/plain": [
              "0      two imprison men bond number years, find solac...\n",
              "1      An organ crime dynasty' age patriarch transfer...\n",
              "2      when menac know joker wreak havoc chao peopl g...\n",
              "3      the earli life career vito corleon 1920 new yo...\n",
              "4      A juri holdout attempt prevent miscarriag just...\n",
              "                             ...                        \n",
              "995    A young new york socialit becom interest young...\n",
              "996    sprawl epic cover life texa cattl rancher fami...\n",
              "997    In hawaii 1941, privat cruelli punish box unit...\n",
              "998    sever survivor torpedo merchant ship world war...\n",
              "999    A man london tri help counter-espionag agent. ...\n",
              "Name: Overview, Length: 1000, dtype: object"
            ]
          },
          "metadata": {},
          "execution_count": 10
        }
      ],
      "source": [
        "porter_stemmer  = PorterStemmer()\n",
        "def stemmer_words(text):\n",
        "    words = text.split()\n",
        "    words = [porter_stemmer.stem(word) for word in words]\n",
        "    return ' '.join(words)\n",
        "df['Overview'] = df['Overview'].apply(stemmer_words)\n",
        "df_q['Query'] = df_q['Query'].apply(stemmer_words)\n",
        "\n",
        "df['Overview']"
      ]
    },
    {
      "cell_type": "markdown",
      "id": "b7eadcb8-dc1c-44c3-84ae-51e1f859a507",
      "metadata": {
        "id": "b7eadcb8-dc1c-44c3-84ae-51e1f859a507"
      },
      "source": [
        " \n",
        "\n",
        "---\n",
        "\n",
        "\n",
        "\n",
        "---\n",
        "\n"
      ]
    },
    {
      "cell_type": "markdown",
      "id": "e3157c4f-a7d5-44b6-94cf-f621c4da0bbf",
      "metadata": {
        "id": "e3157c4f-a7d5-44b6-94cf-f621c4da0bbf"
      },
      "source": [
        "# Dataset Reduction"
      ]
    },
    {
      "cell_type": "code",
      "execution_count": 11,
      "id": "01a00fde-9ec8-425b-9d05-3918ab6188f5",
      "metadata": {
        "id": "01a00fde-9ec8-425b-9d05-3918ab6188f5"
      },
      "outputs": [],
      "source": [
        "N=900\n",
        "df = df.iloc[:-N , :] \n",
        "# We remove 900/1000 observations for the purpose of this architecture\n",
        "# In practice, this cell would be removed, thus using all 1000 observations"
      ]
    },
    {
      "cell_type": "code",
      "execution_count": 12,
      "id": "7a746330-bfe6-43a3-8891-576dfe7b1aac",
      "metadata": {
        "id": "7a746330-bfe6-43a3-8891-576dfe7b1aac"
      },
      "outputs": [],
      "source": [
        "df = df.drop(['Poster_Link', 'Certificate', 'No_of_Votes', 'Gross', 'Runtime', 'Meta_score','Director', 'Star1', 'Star2', 'Star3', 'Star4'], axis = 1)\n",
        "df = df.rename(columns={'Series_Title': \"Title\",\n",
        "                        'Released_Year': 'Year',\n",
        "                        'IMDB_Rating': 'Rating'})"
      ]
    },
    {
      "cell_type": "code",
      "execution_count": 13,
      "id": "dbc69351-93d1-4feb-9deb-40986c2f4019",
      "metadata": {
        "colab": {
          "base_uri": "https://localhost:8080/",
          "height": 224
        },
        "id": "dbc69351-93d1-4feb-9deb-40986c2f4019",
        "outputId": "68c967ae-694a-49b7-b514-2fc7f42c585f"
      },
      "outputs": [
        {
          "output_type": "stream",
          "name": "stdout",
          "text": [
            "(100, 5)\n"
          ]
        },
        {
          "output_type": "execute_result",
          "data": {
            "text/plain": [
              "                      Title  Year                 Genre  Rating  \\\n",
              "0  The Shawshank Redemption  1994                 Drama     9.3   \n",
              "1             The Godfather  1972          Crime, Drama     9.2   \n",
              "2           The Dark Knight  2008  Action, Crime, Drama     9.0   \n",
              "3    The Godfather: Part II  1974          Crime, Drama     9.0   \n",
              "4              12 Angry Men  1957          Crime, Drama     9.0   \n",
              "\n",
              "                                            Overview  \n",
              "0  two imprison men bond number years, find solac...  \n",
              "1  An organ crime dynasty' age patriarch transfer...  \n",
              "2  when menac know joker wreak havoc chao peopl g...  \n",
              "3  the earli life career vito corleon 1920 new yo...  \n",
              "4  A juri holdout attempt prevent miscarriag just...  "
            ],
            "text/html": [
              "\n",
              "  <div id=\"df-5b80a2c8-2c8e-4ea2-8a3a-3a37ad74a036\">\n",
              "    <div class=\"colab-df-container\">\n",
              "      <div>\n",
              "<style scoped>\n",
              "    .dataframe tbody tr th:only-of-type {\n",
              "        vertical-align: middle;\n",
              "    }\n",
              "\n",
              "    .dataframe tbody tr th {\n",
              "        vertical-align: top;\n",
              "    }\n",
              "\n",
              "    .dataframe thead th {\n",
              "        text-align: right;\n",
              "    }\n",
              "</style>\n",
              "<table border=\"1\" class=\"dataframe\">\n",
              "  <thead>\n",
              "    <tr style=\"text-align: right;\">\n",
              "      <th></th>\n",
              "      <th>Title</th>\n",
              "      <th>Year</th>\n",
              "      <th>Genre</th>\n",
              "      <th>Rating</th>\n",
              "      <th>Overview</th>\n",
              "    </tr>\n",
              "  </thead>\n",
              "  <tbody>\n",
              "    <tr>\n",
              "      <th>0</th>\n",
              "      <td>The Shawshank Redemption</td>\n",
              "      <td>1994</td>\n",
              "      <td>Drama</td>\n",
              "      <td>9.3</td>\n",
              "      <td>two imprison men bond number years, find solac...</td>\n",
              "    </tr>\n",
              "    <tr>\n",
              "      <th>1</th>\n",
              "      <td>The Godfather</td>\n",
              "      <td>1972</td>\n",
              "      <td>Crime, Drama</td>\n",
              "      <td>9.2</td>\n",
              "      <td>An organ crime dynasty' age patriarch transfer...</td>\n",
              "    </tr>\n",
              "    <tr>\n",
              "      <th>2</th>\n",
              "      <td>The Dark Knight</td>\n",
              "      <td>2008</td>\n",
              "      <td>Action, Crime, Drama</td>\n",
              "      <td>9.0</td>\n",
              "      <td>when menac know joker wreak havoc chao peopl g...</td>\n",
              "    </tr>\n",
              "    <tr>\n",
              "      <th>3</th>\n",
              "      <td>The Godfather: Part II</td>\n",
              "      <td>1974</td>\n",
              "      <td>Crime, Drama</td>\n",
              "      <td>9.0</td>\n",
              "      <td>the earli life career vito corleon 1920 new yo...</td>\n",
              "    </tr>\n",
              "    <tr>\n",
              "      <th>4</th>\n",
              "      <td>12 Angry Men</td>\n",
              "      <td>1957</td>\n",
              "      <td>Crime, Drama</td>\n",
              "      <td>9.0</td>\n",
              "      <td>A juri holdout attempt prevent miscarriag just...</td>\n",
              "    </tr>\n",
              "  </tbody>\n",
              "</table>\n",
              "</div>\n",
              "      <button class=\"colab-df-convert\" onclick=\"convertToInteractive('df-5b80a2c8-2c8e-4ea2-8a3a-3a37ad74a036')\"\n",
              "              title=\"Convert this dataframe to an interactive table.\"\n",
              "              style=\"display:none;\">\n",
              "        \n",
              "  <svg xmlns=\"http://www.w3.org/2000/svg\" height=\"24px\"viewBox=\"0 0 24 24\"\n",
              "       width=\"24px\">\n",
              "    <path d=\"M0 0h24v24H0V0z\" fill=\"none\"/>\n",
              "    <path d=\"M18.56 5.44l.94 2.06.94-2.06 2.06-.94-2.06-.94-.94-2.06-.94 2.06-2.06.94zm-11 1L8.5 8.5l.94-2.06 2.06-.94-2.06-.94L8.5 2.5l-.94 2.06-2.06.94zm10 10l.94 2.06.94-2.06 2.06-.94-2.06-.94-.94-2.06-.94 2.06-2.06.94z\"/><path d=\"M17.41 7.96l-1.37-1.37c-.4-.4-.92-.59-1.43-.59-.52 0-1.04.2-1.43.59L10.3 9.45l-7.72 7.72c-.78.78-.78 2.05 0 2.83L4 21.41c.39.39.9.59 1.41.59.51 0 1.02-.2 1.41-.59l7.78-7.78 2.81-2.81c.8-.78.8-2.07 0-2.86zM5.41 20L4 18.59l7.72-7.72 1.47 1.35L5.41 20z\"/>\n",
              "  </svg>\n",
              "      </button>\n",
              "      \n",
              "  <style>\n",
              "    .colab-df-container {\n",
              "      display:flex;\n",
              "      flex-wrap:wrap;\n",
              "      gap: 12px;\n",
              "    }\n",
              "\n",
              "    .colab-df-convert {\n",
              "      background-color: #E8F0FE;\n",
              "      border: none;\n",
              "      border-radius: 50%;\n",
              "      cursor: pointer;\n",
              "      display: none;\n",
              "      fill: #1967D2;\n",
              "      height: 32px;\n",
              "      padding: 0 0 0 0;\n",
              "      width: 32px;\n",
              "    }\n",
              "\n",
              "    .colab-df-convert:hover {\n",
              "      background-color: #E2EBFA;\n",
              "      box-shadow: 0px 1px 2px rgba(60, 64, 67, 0.3), 0px 1px 3px 1px rgba(60, 64, 67, 0.15);\n",
              "      fill: #174EA6;\n",
              "    }\n",
              "\n",
              "    [theme=dark] .colab-df-convert {\n",
              "      background-color: #3B4455;\n",
              "      fill: #D2E3FC;\n",
              "    }\n",
              "\n",
              "    [theme=dark] .colab-df-convert:hover {\n",
              "      background-color: #434B5C;\n",
              "      box-shadow: 0px 1px 3px 1px rgba(0, 0, 0, 0.15);\n",
              "      filter: drop-shadow(0px 1px 2px rgba(0, 0, 0, 0.3));\n",
              "      fill: #FFFFFF;\n",
              "    }\n",
              "  </style>\n",
              "\n",
              "      <script>\n",
              "        const buttonEl =\n",
              "          document.querySelector('#df-5b80a2c8-2c8e-4ea2-8a3a-3a37ad74a036 button.colab-df-convert');\n",
              "        buttonEl.style.display =\n",
              "          google.colab.kernel.accessAllowed ? 'block' : 'none';\n",
              "\n",
              "        async function convertToInteractive(key) {\n",
              "          const element = document.querySelector('#df-5b80a2c8-2c8e-4ea2-8a3a-3a37ad74a036');\n",
              "          const dataTable =\n",
              "            await google.colab.kernel.invokeFunction('convertToInteractive',\n",
              "                                                     [key], {});\n",
              "          if (!dataTable) return;\n",
              "\n",
              "          const docLinkHtml = 'Like what you see? Visit the ' +\n",
              "            '<a target=\"_blank\" href=https://colab.research.google.com/notebooks/data_table.ipynb>data table notebook</a>'\n",
              "            + ' to learn more about interactive tables.';\n",
              "          element.innerHTML = '';\n",
              "          dataTable['output_type'] = 'display_data';\n",
              "          await google.colab.output.renderOutput(dataTable, element);\n",
              "          const docLink = document.createElement('div');\n",
              "          docLink.innerHTML = docLinkHtml;\n",
              "          element.appendChild(docLink);\n",
              "        }\n",
              "      </script>\n",
              "    </div>\n",
              "  </div>\n",
              "  "
            ]
          },
          "metadata": {},
          "execution_count": 13
        }
      ],
      "source": [
        "print(df.shape)\n",
        "df.head()"
      ]
    },
    {
      "cell_type": "markdown",
      "id": "5ccdd2da-4561-45bc-91be-ed97d7da390c",
      "metadata": {
        "id": "5ccdd2da-4561-45bc-91be-ed97d7da390c"
      },
      "source": [
        " \n",
        "\n",
        "---\n",
        "\n",
        "\n",
        "\n",
        "---\n",
        "\n"
      ]
    },
    {
      "cell_type": "markdown",
      "id": "5444caf9-f8f3-4817-904d-bb770eac5800",
      "metadata": {
        "id": "5444caf9-f8f3-4817-904d-bb770eac5800"
      },
      "source": [
        "# The Documents"
      ]
    },
    {
      "cell_type": "code",
      "execution_count": 14,
      "id": "aef533a8-8a6b-453e-a2ff-472d4de7e67b",
      "metadata": {
        "colab": {
          "base_uri": "https://localhost:8080/"
        },
        "id": "aef533a8-8a6b-453e-a2ff-472d4de7e67b",
        "outputId": "81f7b279-6694-447e-bbd2-66f72fd9ce7d"
      },
      "outputs": [
        {
          "output_type": "stream",
          "name": "stdout",
          "text": [
            "(100,)\n"
          ]
        },
        {
          "output_type": "execute_result",
          "data": {
            "text/plain": [
              "array(['two imprison men bond number years, find solac eventu redempt act common decency.',\n",
              "       \"An organ crime dynasty' age patriarch transfer control clandestin empir reluct son.\",\n",
              "       'when menac know joker wreak havoc chao peopl gotham, batman must accept one greatest psycholog physic test abil fight injustice.',\n",
              "       'the earli life career vito corleon 1920 new york citi portrayed, son, michael, expand tighten grip famili crime syndicate.',\n",
              "       'A juri holdout attempt prevent miscarriag justic forc colleagu reconsid evidence.',\n",
              "       \"gandalf aragorn lead world men sauron' armi draw gaze frodo sam approach mount doom one ring.\",\n",
              "       'the live two mob hitmen, boxer, gangster wife, pair diner bandit intertwin four tale violenc redemption.',\n",
              "       'In german-occupi poland world war ii, industrialist oskar schindler gradual becom concern jewish workforc wit persecut nazis.',\n",
              "       'A thief steal corpor secret use dream-shar technolog give invers task plant idea mind c.e.o.',\n",
              "       'An insomniac offic worker devil-may-car soapmak form underground fight club evolv someth much, much more.',\n",
              "       'A meek hobbit shire eight companion set journey destroy power one ring save middle-earth dark lord sauron.',\n",
              "       'the presid kennedi johnson, event vietnam, waterg histor event unfold perspect alabama man IQ 75, whose desir reunit childhood sweetheart.',\n",
              "       'A bounti hunt scam join two men uneasi allianc third race find fortun gold buri remot cemetery.',\n",
              "       \"while frodo sam edg closer mordor help shifti gollum, divid fellowship make stand sauron' new ally, saruman, hord isengard.\",\n",
              "       'when beauti stranger lead comput hacker neo forbid underworld, discov shock truth--th life know elabor decept evil cyber-intelligence.',\n",
              "       'the stori henri hill life mob, cover relationship wife karen hill mob partner jimmi conway tommi devito italian-american crime syndicate.',\n",
              "       'after rebel brutal overpow empir ice planet hoth, luke skywalk begin jedi train yoda, friend pursu darth vader bounti hunter name boba fett galaxy.',\n",
              "       'A crimin plead insan admit mental institution, rebel oppress nurs ralli scar patients.',\n",
              "       \"the real life one america' foremost found father first secretari treasury, alexand hamilton. captur live broadway richard rodger theater origin broadway cast.\",\n",
              "       'greed class discrimin threaten newli form symbiot relationship wealthi park famili destitut kim clan.',\n",
              "       'nedumaaran rajangam \"maara\" set make common man fli process take world\\' capit intens industri sever enemi stand way.',\n",
              "       \"A team explor travel wormhol space attempt ensur humanity' survival.\",\n",
              "       \"In slum rio, two kids' path diverg one struggl becom photograph kingpin.\",\n",
              "       \"dure family' move suburbs, sullen 10-year-old girl wander world rule gods, witches, spirits, human chang beasts.\",\n",
              "       'follow normandi landings, group u.s. soldier go behind enemi line retriev paratroop whose brother kill action.',\n",
              "       'the live guard death row affect one charges: black man accus child murder rape, yet mysteri gift.',\n",
              "       'when open-mind jewish librarian son becom victim holocaust, use perfect mixtur will, humor, imagin protect son danger around camp.',\n",
              "       'two detectives, rooki veteran, hunt serial killer use seven deadli sin motives.',\n",
              "       'A young f.b.i. cadet must receiv help incarcer manipul cannib killer help catch anoth serial killer, madman skin victims.',\n",
              "       \"luke skywalk join forc jedi knight, cocki pilot, wookie two droid save galaxi empire' world-destroy battl station, also attempt rescu princess leia mysteri darth vader.\",\n",
              "       \"when ronin request seppuku feudal lord' palac tell brutal suicid anoth ronin previous visited, reveal past intertwin - challeng clan' integrity.\",\n",
              "       'A poor villag attack bandit recruit seven unemploy samurai help defend themselves.',\n",
              "       'An angel send heaven help desper frustrat businessman show life would like never existed.',\n",
              "       'In gotham city, mental troubl comedian arthur fleck disregard mistreat society. He embark downward spiral revolut bloodi crime. thi path bring face-to-fac alter-ego: joker.',\n",
              "       \"A promis young drummer enrol cut-throat music conservatori dream great mentor instructor stop noth realiz student' potential.\",\n",
              "       'after becom quadripleg paraglid accident, aristocrat hire young man project caregiver.',\n",
              "       'after tragic accident, two stage magician engag battl creat ultim illus sacrific everyth outwit other.',\n",
              "       'An undercov cop mole polic attempt identifi infiltr irish gang south boston.',\n",
              "       'A polish jewish musician struggl surviv destruct warsaw ghetto world war ii.',\n",
              "       'A former roman gener set exact vengeanc corrupt emperor murder famili send slavery.',\n",
              "       'A former neo-nazi skinhead tri prevent younger brother go wrong path did.',\n",
              "       'A sole survivor tell twisti event lead horrif gun battl boat, begin five crimin meet seemingli random polic lineup.',\n",
              "       \"mathilda, 12-year-old girl, reluctantli take léon, profession assassin, famili murdered. An unusu relationship form becom protégé learn assassin' trade.\",\n",
              "       'lion princ simba father target bitter uncle, want ascend throne himself.',\n",
              "       'A cyborg, ident one fail kill sarah connor, must protect teenag son, john connor, advanc power cyborg.',\n",
              "       \"A filmmak recal childhood fall love pictur cinema home villag form deep friendship cinema' projectionist.\",\n",
              "       'A young boy littl sister struggl surviv japan world war ii.',\n",
              "       'marti mcfly, 17-year-old high school student, accident send thirti year past time-travel delorean invent close friend, eccentr scientist doc brown.',\n",
              "       'A mysteri stranger harmonica join forc notori desperado protect beauti widow ruthless assassin work railroad.',\n",
              "       \"A phoenix secretari embezzl $40,000 employer' client, go run, check remot motel run young man domin mother.\",\n",
              "       'A cynic expatri american cafe owner struggl decid whether help former lover fugit husband escap nazi french morocco.',\n",
              "       'the tramp struggl live modern industri societi help young homeless woman.',\n",
              "       'with aid wealthi errat tippler, dewy-ey tramp fall love sightless flower girl accumul money abl help medically.',\n",
              "       'while serv five-year sentenc violent crime, 12-year-old boy sue parent neglect.',\n",
              "       'In 1950, amid-st ravag korean war, sergeant süleyman stumbl upon half-frozen littl girl, parent help sight. frantic, scar verg death, ... see full summari »',\n",
              "       \"vikram, no-nonsens polic officer, accompani simon, partner, hunt captur vedha, smuggler murderer. vedha tri chang vikram' life, lead conflict.\",\n",
              "       'two stranger find link bizarr way. when connect forms, distanc thing keep apart?',\n",
              "       'former wrestler mahavir singh phogat two wrestler daughter struggl toward glori commonwealth game face societ oppression.',\n",
              "       'teen mile moral becom spider-man universe, must join five spider-pow individu dimens stop threat realities.',\n",
              "       \"after devast event avengers: infin war (2018), univers ruins. with help remain allies, aveng assembl order revers thanos' action restor balanc universe.\",\n",
              "       'the aveng alli must will sacrific attempt defeat power thano blitz devast ruin put end universe.',\n",
              "       \"aspir musician miguel, confront family' ancestr ban music, enter land dead find great-great-grandfather, legendari singer.\",\n",
              "       'with help german bounti hunter, free slave set rescu wife brutal mississippi plantat owner.',\n",
              "       \"eight year joker' reign anarchy, batman, help enigmat catwoman, forc exil save gotham citi brutal guerrilla terrorist bane.\",\n",
              "       'two friend search long lose companion. they revisit colleg day recal memori friend inspir think differently, even rest world call \"idiots\".',\n",
              "       'An eight-year-old boy think lazi trouble-maker, new art teacher patienc compass discov real problem behind struggl school.',\n",
              "       'In distant future, small waste-collect robot inadvert embark space journey ultim decid fate mankind.',\n",
              "       'In 1984 east berlin, agent secret police, conduct surveil writer lover, find becom increasingli absorb lives.',\n",
              "       'after kidnap imprison fifteen years, Oh dae-su released, find must find captor five days.',\n",
              "       \"A man short-term memori loss attempt track wife' murderer.\",\n",
              "       \"On journey find cure tatarigami' curse, ashitaka find middl war forest god tatara, mine colony. In quest also meet san, mononok hime.\",\n",
              "       'A former prohibition-era jewish gangster return lower east side manhattan thirti year later, must confront ghost regret old life.',\n",
              "       \"In 1936, archaeologist adventur indiana jone hire u.s. govern find ark coven adolf hitler' nazi obtain awesom powers.\",\n",
              "       'A famili head isol hotel winter sinist presenc influenc father violence, psychic son see horrif forebod past future.',\n",
              "       'A u.s. armi offic serv vietnam task assassin renegad special forc colonel see god.',\n",
              "       'after space merchant vessel receiv unknown transmiss distress call, one crew attack mysteri life form soon realiz life cycl mere begun.',\n",
              "       'the stori termin ill man wish live life fullest inevit occurs, tell best friend.',\n",
              "       \"An execut shoe compani becom victim extort chauffeur' son kidnap hold ransom.\",\n",
              "       'An insan gener trigger path nuclear holocaust war room full politician gener frantic tri stop.',\n",
              "       'A veteran british barrist must defend client murder trial surpris surprise.',\n",
              "       'after refus attack enemi position, gener accus soldier cowardic command offic must defend them.',\n",
              "       'A wheelchair-bound photograph spi neighbor apart window becom convinc one commit murder.',\n",
              "       'A screenwrit develop danger relationship fade film star determin make triumphant return.',\n",
              "       \"dictat adenoid hynkel tri expand empir poor jewish barber tri avoid persecut hynkel' regime.\",\n",
              "       'april 6th, 1917. As regiment assembl wage war deep enemi territory, two soldier assign race time deliv messag stop 1,600 men walk straight deadli trap.',\n",
              "       'A mytholog stori goddess creat entir universe. the plot revolv around consequ human build templ first-born.',\n",
              "       'A seri mysteri event chang life blind pianist, must report crime technic know noth of.',\n",
              "       'A man go extrem length save famili punish famili commit accident crime.',\n",
              "       \"A teacher live lone life, struggl son' custody. hi life slowli get better find love receiv good news son, new luck brutal shatter innoc littl lie.\",\n",
              "       \"A marri coupl face difficult decis - improv life child move anoth countri stay iran look deterior parent alzheimer' disease.\",\n",
              "       \"twin journey middl east discov famili histori fulfil mother' last wishes.\",\n",
              "       'A stori love mentally-il father wrongli accus murder love six year old daughter. the prison would home. base 2013 korean movi 7-beon-bang-ui seon-mul (2013).',\n",
              "       'the famili left-w journalist tear apart militari coup turkey 1980.',\n",
              "       \"In nazi-occupi franc world war ii, plan assassin nazi leader group jewish u.s. soldier coincid theatr owner' veng plan same.\",\n",
              "       'when relationship turn sour, coupl undergo medic procedur eras memories.',\n",
              "       'améli innoc naiv girl pari sens justice. she decid help around and, along way, discov love.',\n",
              "       'unscrupul box promoters, violent bookmakers, russian gangster, incompet amateur robber supposedli jewish jewel fight track priceless steal diamond.',\n",
              "       'the drug-induc utopia four coney island peopl shatter addict run deep.',\n",
              "       \"A sexual frustrat suburban father mid-lif crisi becom infatu daughter' best friend.\",\n",
              "       'will hunting, janitor m.i.t., gift mathematics, need help psychologist find direct life.'],\n",
              "      dtype=object)"
            ]
          },
          "metadata": {},
          "execution_count": 14
        }
      ],
      "source": [
        "documents=df['Overview'].unique()\n",
        "print(documents.shape)\n",
        "documents"
      ]
    },
    {
      "cell_type": "markdown",
      "id": "5f156792-3d21-4997-8a9a-c83eb62b19f6",
      "metadata": {
        "id": "5f156792-3d21-4997-8a9a-c83eb62b19f6"
      },
      "source": [
        " \n",
        "\n",
        "---\n",
        "\n",
        "\n",
        "\n",
        "---\n",
        "\n"
      ]
    },
    {
      "cell_type": "markdown",
      "id": "b7229d2d-b811-4cc5-bb50-ead76e5956e9",
      "metadata": {
        "id": "b7229d2d-b811-4cc5-bb50-ead76e5956e9"
      },
      "source": [
        "# Resultant Indexed Query "
      ]
    },
    {
      "cell_type": "code",
      "source": [
        "df_q['Query']"
      ],
      "metadata": {
        "colab": {
          "base_uri": "https://localhost:8080/"
        },
        "id": "BgDiWsDCjGsL",
        "outputId": "1a8082b7-79e8-4a73-f65b-f4ca22a7376d"
      },
      "id": "BgDiWsDCjGsL",
      "execution_count": 15,
      "outputs": [
        {
          "output_type": "execute_result",
          "data": {
            "text/plain": [
              "0    survivor\n",
              "1       battl\n",
              "Name: Query, dtype: object"
            ]
          },
          "metadata": {},
          "execution_count": 15
        }
      ]
    },
    {
      "cell_type": "markdown",
      "source": [
        "\n",
        "\n",
        "---\n",
        "\n",
        "\n",
        "\n",
        "---\n",
        "\n"
      ],
      "metadata": {
        "id": "h6XUPyFijJRz"
      },
      "id": "h6XUPyFijJRz"
    },
    {
      "cell_type": "markdown",
      "id": "3c63596c-e9c7-4624-9364-2b8a6eb6169e",
      "metadata": {
        "id": "3c63596c-e9c7-4624-9364-2b8a6eb6169e"
      },
      "source": [
        "# Vectorization (Bag of Words)"
      ]
    },
    {
      "cell_type": "code",
      "execution_count": 16,
      "id": "a2c0dab0-9bc4-4cc4-a7dc-b8d2f84f0099",
      "metadata": {
        "id": "a2c0dab0-9bc4-4cc4-a7dc-b8d2f84f0099"
      },
      "outputs": [],
      "source": [
        "vectorizer = CountVectorizer(stop_words='english')\n",
        "documents_vectorized = vectorizer.fit_transform(documents)\n",
        "vocabulary = vectorizer.get_feature_names_out()"
      ]
    },
    {
      "cell_type": "code",
      "execution_count": 17,
      "id": "fbe6934c-f566-4732-b6a3-94a505eac6e3",
      "metadata": {
        "colab": {
          "base_uri": "https://localhost:8080/",
          "height": 299
        },
        "id": "fbe6934c-f566-4732-b6a3-94a505eac6e3",
        "outputId": "13ac6ffc-bfb0-4e5e-dd61-cd5fa32e7ddc"
      },
      "outputs": [
        {
          "output_type": "execute_result",
          "data": {
            "text/plain": [
              "   000  10  12  17  1917  1920  1936  1950  1980  1984  ...  wrestler  writer  \\\n",
              "0    0   0   0   0     0     0     0     0     0     0  ...         0       0   \n",
              "1    0   0   0   0     0     0     0     0     0     0  ...         0       0   \n",
              "2    0   0   0   0     0     0     0     0     0     0  ...         0       0   \n",
              "3    0   0   0   0     0     1     0     0     0     0  ...         0       0   \n",
              "4    0   0   0   0     0     0     0     0     0     0  ...         0       0   \n",
              "\n",
              "   wrong  wrongli  year  years  yoda  york  young  younger  \n",
              "0      0        0     0      1     0     0      0        0  \n",
              "1      0        0     0      0     0     0      0        0  \n",
              "2      0        0     0      0     0     0      0        0  \n",
              "3      0        0     0      0     0     1      0        0  \n",
              "4      0        0     0      0     0     0      0        0  \n",
              "\n",
              "[5 rows x 981 columns]"
            ],
            "text/html": [
              "\n",
              "  <div id=\"df-01b29c96-84bc-42ca-a2cb-26a5e29aa71e\">\n",
              "    <div class=\"colab-df-container\">\n",
              "      <div>\n",
              "<style scoped>\n",
              "    .dataframe tbody tr th:only-of-type {\n",
              "        vertical-align: middle;\n",
              "    }\n",
              "\n",
              "    .dataframe tbody tr th {\n",
              "        vertical-align: top;\n",
              "    }\n",
              "\n",
              "    .dataframe thead th {\n",
              "        text-align: right;\n",
              "    }\n",
              "</style>\n",
              "<table border=\"1\" class=\"dataframe\">\n",
              "  <thead>\n",
              "    <tr style=\"text-align: right;\">\n",
              "      <th></th>\n",
              "      <th>000</th>\n",
              "      <th>10</th>\n",
              "      <th>12</th>\n",
              "      <th>17</th>\n",
              "      <th>1917</th>\n",
              "      <th>1920</th>\n",
              "      <th>1936</th>\n",
              "      <th>1950</th>\n",
              "      <th>1980</th>\n",
              "      <th>1984</th>\n",
              "      <th>...</th>\n",
              "      <th>wrestler</th>\n",
              "      <th>writer</th>\n",
              "      <th>wrong</th>\n",
              "      <th>wrongli</th>\n",
              "      <th>year</th>\n",
              "      <th>years</th>\n",
              "      <th>yoda</th>\n",
              "      <th>york</th>\n",
              "      <th>young</th>\n",
              "      <th>younger</th>\n",
              "    </tr>\n",
              "  </thead>\n",
              "  <tbody>\n",
              "    <tr>\n",
              "      <th>0</th>\n",
              "      <td>0</td>\n",
              "      <td>0</td>\n",
              "      <td>0</td>\n",
              "      <td>0</td>\n",
              "      <td>0</td>\n",
              "      <td>0</td>\n",
              "      <td>0</td>\n",
              "      <td>0</td>\n",
              "      <td>0</td>\n",
              "      <td>0</td>\n",
              "      <td>...</td>\n",
              "      <td>0</td>\n",
              "      <td>0</td>\n",
              "      <td>0</td>\n",
              "      <td>0</td>\n",
              "      <td>0</td>\n",
              "      <td>1</td>\n",
              "      <td>0</td>\n",
              "      <td>0</td>\n",
              "      <td>0</td>\n",
              "      <td>0</td>\n",
              "    </tr>\n",
              "    <tr>\n",
              "      <th>1</th>\n",
              "      <td>0</td>\n",
              "      <td>0</td>\n",
              "      <td>0</td>\n",
              "      <td>0</td>\n",
              "      <td>0</td>\n",
              "      <td>0</td>\n",
              "      <td>0</td>\n",
              "      <td>0</td>\n",
              "      <td>0</td>\n",
              "      <td>0</td>\n",
              "      <td>...</td>\n",
              "      <td>0</td>\n",
              "      <td>0</td>\n",
              "      <td>0</td>\n",
              "      <td>0</td>\n",
              "      <td>0</td>\n",
              "      <td>0</td>\n",
              "      <td>0</td>\n",
              "      <td>0</td>\n",
              "      <td>0</td>\n",
              "      <td>0</td>\n",
              "    </tr>\n",
              "    <tr>\n",
              "      <th>2</th>\n",
              "      <td>0</td>\n",
              "      <td>0</td>\n",
              "      <td>0</td>\n",
              "      <td>0</td>\n",
              "      <td>0</td>\n",
              "      <td>0</td>\n",
              "      <td>0</td>\n",
              "      <td>0</td>\n",
              "      <td>0</td>\n",
              "      <td>0</td>\n",
              "      <td>...</td>\n",
              "      <td>0</td>\n",
              "      <td>0</td>\n",
              "      <td>0</td>\n",
              "      <td>0</td>\n",
              "      <td>0</td>\n",
              "      <td>0</td>\n",
              "      <td>0</td>\n",
              "      <td>0</td>\n",
              "      <td>0</td>\n",
              "      <td>0</td>\n",
              "    </tr>\n",
              "    <tr>\n",
              "      <th>3</th>\n",
              "      <td>0</td>\n",
              "      <td>0</td>\n",
              "      <td>0</td>\n",
              "      <td>0</td>\n",
              "      <td>0</td>\n",
              "      <td>1</td>\n",
              "      <td>0</td>\n",
              "      <td>0</td>\n",
              "      <td>0</td>\n",
              "      <td>0</td>\n",
              "      <td>...</td>\n",
              "      <td>0</td>\n",
              "      <td>0</td>\n",
              "      <td>0</td>\n",
              "      <td>0</td>\n",
              "      <td>0</td>\n",
              "      <td>0</td>\n",
              "      <td>0</td>\n",
              "      <td>1</td>\n",
              "      <td>0</td>\n",
              "      <td>0</td>\n",
              "    </tr>\n",
              "    <tr>\n",
              "      <th>4</th>\n",
              "      <td>0</td>\n",
              "      <td>0</td>\n",
              "      <td>0</td>\n",
              "      <td>0</td>\n",
              "      <td>0</td>\n",
              "      <td>0</td>\n",
              "      <td>0</td>\n",
              "      <td>0</td>\n",
              "      <td>0</td>\n",
              "      <td>0</td>\n",
              "      <td>...</td>\n",
              "      <td>0</td>\n",
              "      <td>0</td>\n",
              "      <td>0</td>\n",
              "      <td>0</td>\n",
              "      <td>0</td>\n",
              "      <td>0</td>\n",
              "      <td>0</td>\n",
              "      <td>0</td>\n",
              "      <td>0</td>\n",
              "      <td>0</td>\n",
              "    </tr>\n",
              "  </tbody>\n",
              "</table>\n",
              "<p>5 rows × 981 columns</p>\n",
              "</div>\n",
              "      <button class=\"colab-df-convert\" onclick=\"convertToInteractive('df-01b29c96-84bc-42ca-a2cb-26a5e29aa71e')\"\n",
              "              title=\"Convert this dataframe to an interactive table.\"\n",
              "              style=\"display:none;\">\n",
              "        \n",
              "  <svg xmlns=\"http://www.w3.org/2000/svg\" height=\"24px\"viewBox=\"0 0 24 24\"\n",
              "       width=\"24px\">\n",
              "    <path d=\"M0 0h24v24H0V0z\" fill=\"none\"/>\n",
              "    <path d=\"M18.56 5.44l.94 2.06.94-2.06 2.06-.94-2.06-.94-.94-2.06-.94 2.06-2.06.94zm-11 1L8.5 8.5l.94-2.06 2.06-.94-2.06-.94L8.5 2.5l-.94 2.06-2.06.94zm10 10l.94 2.06.94-2.06 2.06-.94-2.06-.94-.94-2.06-.94 2.06-2.06.94z\"/><path d=\"M17.41 7.96l-1.37-1.37c-.4-.4-.92-.59-1.43-.59-.52 0-1.04.2-1.43.59L10.3 9.45l-7.72 7.72c-.78.78-.78 2.05 0 2.83L4 21.41c.39.39.9.59 1.41.59.51 0 1.02-.2 1.41-.59l7.78-7.78 2.81-2.81c.8-.78.8-2.07 0-2.86zM5.41 20L4 18.59l7.72-7.72 1.47 1.35L5.41 20z\"/>\n",
              "  </svg>\n",
              "      </button>\n",
              "      \n",
              "  <style>\n",
              "    .colab-df-container {\n",
              "      display:flex;\n",
              "      flex-wrap:wrap;\n",
              "      gap: 12px;\n",
              "    }\n",
              "\n",
              "    .colab-df-convert {\n",
              "      background-color: #E8F0FE;\n",
              "      border: none;\n",
              "      border-radius: 50%;\n",
              "      cursor: pointer;\n",
              "      display: none;\n",
              "      fill: #1967D2;\n",
              "      height: 32px;\n",
              "      padding: 0 0 0 0;\n",
              "      width: 32px;\n",
              "    }\n",
              "\n",
              "    .colab-df-convert:hover {\n",
              "      background-color: #E2EBFA;\n",
              "      box-shadow: 0px 1px 2px rgba(60, 64, 67, 0.3), 0px 1px 3px 1px rgba(60, 64, 67, 0.15);\n",
              "      fill: #174EA6;\n",
              "    }\n",
              "\n",
              "    [theme=dark] .colab-df-convert {\n",
              "      background-color: #3B4455;\n",
              "      fill: #D2E3FC;\n",
              "    }\n",
              "\n",
              "    [theme=dark] .colab-df-convert:hover {\n",
              "      background-color: #434B5C;\n",
              "      box-shadow: 0px 1px 3px 1px rgba(0, 0, 0, 0.15);\n",
              "      filter: drop-shadow(0px 1px 2px rgba(0, 0, 0, 0.3));\n",
              "      fill: #FFFFFF;\n",
              "    }\n",
              "  </style>\n",
              "\n",
              "      <script>\n",
              "        const buttonEl =\n",
              "          document.querySelector('#df-01b29c96-84bc-42ca-a2cb-26a5e29aa71e button.colab-df-convert');\n",
              "        buttonEl.style.display =\n",
              "          google.colab.kernel.accessAllowed ? 'block' : 'none';\n",
              "\n",
              "        async function convertToInteractive(key) {\n",
              "          const element = document.querySelector('#df-01b29c96-84bc-42ca-a2cb-26a5e29aa71e');\n",
              "          const dataTable =\n",
              "            await google.colab.kernel.invokeFunction('convertToInteractive',\n",
              "                                                     [key], {});\n",
              "          if (!dataTable) return;\n",
              "\n",
              "          const docLinkHtml = 'Like what you see? Visit the ' +\n",
              "            '<a target=\"_blank\" href=https://colab.research.google.com/notebooks/data_table.ipynb>data table notebook</a>'\n",
              "            + ' to learn more about interactive tables.';\n",
              "          element.innerHTML = '';\n",
              "          dataTable['output_type'] = 'display_data';\n",
              "          await google.colab.output.renderOutput(dataTable, element);\n",
              "          const docLink = document.createElement('div');\n",
              "          docLink.innerHTML = docLinkHtml;\n",
              "          element.appendChild(docLink);\n",
              "        }\n",
              "      </script>\n",
              "    </div>\n",
              "  </div>\n",
              "  "
            ]
          },
          "metadata": {},
          "execution_count": 17
        }
      ],
      "source": [
        "dataframe = pd.DataFrame(documents_vectorized.toarray(), columns=vocabulary)\n",
        "dataframe.head()"
      ]
    },
    {
      "cell_type": "code",
      "execution_count": 18,
      "id": "8a2ae198-3491-4b7d-980d-fb5dcf55a2f3",
      "metadata": {
        "colab": {
          "base_uri": "https://localhost:8080/"
        },
        "id": "8a2ae198-3491-4b7d-980d-fb5dcf55a2f3",
        "outputId": "e0009aff-f50e-4ea2-d0e9-80579615fe52"
      },
      "outputs": [
        {
          "output_type": "execute_result",
          "data": {
            "text/plain": [
              "000        1\n",
              "10         1\n",
              "12         2\n",
              "17         1\n",
              "1917       1\n",
              "          ..\n",
              "years      2\n",
              "yoda       1\n",
              "york       1\n",
              "young      6\n",
              "younger    1\n",
              "Length: 981, dtype: int64"
            ]
          },
          "metadata": {},
          "execution_count": 18
        }
      ],
      "source": [
        "dfs = (dataframe > 0).sum(axis=0)\n",
        "dfs.shape # Number of unique words in 100 documents\n",
        "dfs"
      ]
    },
    {
      "cell_type": "code",
      "execution_count": 19,
      "id": "5254c9f8-3538-486e-8772-93bede656d43",
      "metadata": {
        "id": "5254c9f8-3538-486e-8772-93bede656d43"
      },
      "outputs": [],
      "source": [
        "# then calculate idf:\n",
        "N = dataframe.shape[0]"
      ]
    },
    {
      "cell_type": "code",
      "execution_count": 20,
      "id": "afa12824-c1c1-4b46-be4d-d0c111dad47f",
      "metadata": {
        "id": "afa12824-c1c1-4b46-be4d-d0c111dad47f",
        "colab": {
          "base_uri": "https://localhost:8080/"
        },
        "outputId": "9afe234c-c51d-4390-f372-4d7481e5b1d2"
      },
      "outputs": [
        {
          "output_type": "execute_result",
          "data": {
            "text/plain": [
              "000        2.000000\n",
              "10         2.000000\n",
              "12         1.698970\n",
              "17         2.000000\n",
              "1917       2.000000\n",
              "             ...   \n",
              "years      1.698970\n",
              "yoda       2.000000\n",
              "york       2.000000\n",
              "young      1.221849\n",
              "younger    2.000000\n",
              "Length: 981, dtype: float64"
            ]
          },
          "metadata": {},
          "execution_count": 20
        }
      ],
      "source": [
        "idfs = np.log10(N/dfs)\n",
        "idfs"
      ]
    },
    {
      "cell_type": "markdown",
      "id": "27c4aac5-5eab-4547-ab51-7f4fbbfc0ea8",
      "metadata": {
        "id": "27c4aac5-5eab-4547-ab51-7f4fbbfc0ea8"
      },
      "source": [
        " \n",
        "\n",
        "---\n",
        "\n",
        "\n",
        "\n",
        "---\n",
        "\n"
      ]
    },
    {
      "cell_type": "markdown",
      "id": "312796ec-df51-4d5e-b721-bc1b8471d8a4",
      "metadata": {
        "id": "312796ec-df51-4d5e-b721-bc1b8471d8a4"
      },
      "source": [
        "# BM25 Frequency Conversion"
      ]
    },
    {
      "cell_type": "code",
      "execution_count": 21,
      "id": "6dbe8c59-08f7-40fa-a818-72f00ee63bf2",
      "metadata": {
        "id": "6dbe8c59-08f7-40fa-a818-72f00ee63bf2",
        "colab": {
          "base_uri": "https://localhost:8080/"
        },
        "outputId": "35fde127-a8f3-4d12-9926-e0d192168624"
      },
      "outputs": [
        {
          "output_type": "stream",
          "name": "stdout",
          "text": [
            "[11, 11, 17, 18, 10, 15, 13, 17, 13, 12, 15, 18, 13, 18, 19, 20, 22, 12, 18, 14, 17, 9, 9, 17, 12, 14, 17, 11, 16, 24, 19, 10, 10, 24, 17, 10, 12, 11, 11, 11, 10, 17, 19, 10, 14, 14, 10, 23, 14, 16, 15, 10, 17, 12, 21, 19, 9, 13, 15, 20, 12, 16, 13, 17, 17, 17, 14, 14, 9, 9, 16, 16, 15, 16, 11, 18, 13, 11, 13, 9, 11, 11, 11, 14, 23, 13, 12, 10, 23, 17, 10, 24, 9, 18, 9, 12, 18, 10, 12, 9]\n"
          ]
        }
      ],
      "source": [
        "k_1 = 1.2 # single value\n",
        "b = 0.8 # single value\n",
        "## considering all words in doc\n",
        "dls = [len(d.split(' ')) for d in documents] # vector\n",
        "## considering words minus stop words in doc. \n",
        "dls = dataframe.sum(axis=1).tolist()\n",
        "print(dls)\n",
        "avgdl = np.mean(dls) # single value"
      ]
    },
    {
      "cell_type": "code",
      "execution_count": 22,
      "id": "efd8bf65-05da-4346-b395-f99d29944a96",
      "metadata": {
        "id": "efd8bf65-05da-4346-b395-f99d29944a96"
      },
      "outputs": [],
      "source": [
        "# With these we can calculate the BM25 term frequency quantification. Switching to numpy to make things easier:\n",
        "numerator = np.array((k_1 + 1) * dataframe)\n",
        "denominator = np.array(k_1 *((1 - b) + b * (dls / avgdl))).reshape(N,1) + np.array(dataframe)\n",
        "\n",
        "BM25_tf = numerator / denominator\n",
        "\n",
        "idfs = np.array(idfs)\n",
        "\n",
        "BM25_score = BM25_tf * idfs"
      ]
    },
    {
      "cell_type": "code",
      "source": [
        "np.array(dataframe)"
      ],
      "metadata": {
        "colab": {
          "base_uri": "https://localhost:8080/"
        },
        "id": "GXuGpz-H-v0o",
        "outputId": "8889b94b-5cc3-4033-a71f-60b8e387243a"
      },
      "id": "GXuGpz-H-v0o",
      "execution_count": 23,
      "outputs": [
        {
          "output_type": "execute_result",
          "data": {
            "text/plain": [
              "array([[0, 0, 0, ..., 0, 0, 0],\n",
              "       [0, 0, 0, ..., 0, 0, 0],\n",
              "       [0, 0, 0, ..., 0, 0, 0],\n",
              "       ...,\n",
              "       [0, 0, 0, ..., 0, 0, 0],\n",
              "       [0, 0, 0, ..., 0, 0, 0],\n",
              "       [0, 0, 0, ..., 0, 0, 0]])"
            ]
          },
          "metadata": {},
          "execution_count": 23
        }
      ]
    },
    {
      "cell_type": "code",
      "execution_count": 24,
      "id": "d8b3bbe7-3b01-4879-b167-5e81ebf2ff8d",
      "metadata": {
        "colab": {
          "base_uri": "https://localhost:8080/",
          "height": 299
        },
        "id": "d8b3bbe7-3b01-4879-b167-5e81ebf2ff8d",
        "outputId": "4976fa4a-d230-431d-f62b-8123f258c0e4"
      },
      "outputs": [
        {
          "output_type": "execute_result",
          "data": {
            "text/plain": [
              "   000   10   12   17  1917      1920  1936  1950  1980  1984  ...  wrestler  \\\n",
              "0  0.0  0.0  0.0  0.0   0.0  0.000000   0.0   0.0   0.0   0.0  ...       0.0   \n",
              "1  0.0  0.0  0.0  0.0   0.0  0.000000   0.0   0.0   0.0   0.0  ...       0.0   \n",
              "2  0.0  0.0  0.0  0.0   0.0  0.000000   0.0   0.0   0.0   0.0  ...       0.0   \n",
              "3  0.0  0.0  0.0  0.0   0.0  1.801429   0.0   0.0   0.0   0.0  ...       0.0   \n",
              "4  0.0  0.0  0.0  0.0   0.0  0.000000   0.0   0.0   0.0   0.0  ...       0.0   \n",
              "\n",
              "   writer  wrong  wrongli  year     years  yoda      york  young  younger  \n",
              "0     0.0    0.0      0.0   0.0  1.892654   0.0  0.000000    0.0      0.0  \n",
              "1     0.0    0.0      0.0   0.0  0.000000   0.0  0.000000    0.0      0.0  \n",
              "2     0.0    0.0      0.0   0.0  0.000000   0.0  0.000000    0.0      0.0  \n",
              "3     0.0    0.0      0.0   0.0  0.000000   0.0  1.801429    0.0      0.0  \n",
              "4     0.0    0.0      0.0   0.0  0.000000   0.0  0.000000    0.0      0.0  \n",
              "\n",
              "[5 rows x 981 columns]"
            ],
            "text/html": [
              "\n",
              "  <div id=\"df-94e2a7b0-1fd7-454e-a15c-51a96a4fcfe2\">\n",
              "    <div class=\"colab-df-container\">\n",
              "      <div>\n",
              "<style scoped>\n",
              "    .dataframe tbody tr th:only-of-type {\n",
              "        vertical-align: middle;\n",
              "    }\n",
              "\n",
              "    .dataframe tbody tr th {\n",
              "        vertical-align: top;\n",
              "    }\n",
              "\n",
              "    .dataframe thead th {\n",
              "        text-align: right;\n",
              "    }\n",
              "</style>\n",
              "<table border=\"1\" class=\"dataframe\">\n",
              "  <thead>\n",
              "    <tr style=\"text-align: right;\">\n",
              "      <th></th>\n",
              "      <th>000</th>\n",
              "      <th>10</th>\n",
              "      <th>12</th>\n",
              "      <th>17</th>\n",
              "      <th>1917</th>\n",
              "      <th>1920</th>\n",
              "      <th>1936</th>\n",
              "      <th>1950</th>\n",
              "      <th>1980</th>\n",
              "      <th>1984</th>\n",
              "      <th>...</th>\n",
              "      <th>wrestler</th>\n",
              "      <th>writer</th>\n",
              "      <th>wrong</th>\n",
              "      <th>wrongli</th>\n",
              "      <th>year</th>\n",
              "      <th>years</th>\n",
              "      <th>yoda</th>\n",
              "      <th>york</th>\n",
              "      <th>young</th>\n",
              "      <th>younger</th>\n",
              "    </tr>\n",
              "  </thead>\n",
              "  <tbody>\n",
              "    <tr>\n",
              "      <th>0</th>\n",
              "      <td>0.0</td>\n",
              "      <td>0.0</td>\n",
              "      <td>0.0</td>\n",
              "      <td>0.0</td>\n",
              "      <td>0.0</td>\n",
              "      <td>0.000000</td>\n",
              "      <td>0.0</td>\n",
              "      <td>0.0</td>\n",
              "      <td>0.0</td>\n",
              "      <td>0.0</td>\n",
              "      <td>...</td>\n",
              "      <td>0.0</td>\n",
              "      <td>0.0</td>\n",
              "      <td>0.0</td>\n",
              "      <td>0.0</td>\n",
              "      <td>0.0</td>\n",
              "      <td>1.892654</td>\n",
              "      <td>0.0</td>\n",
              "      <td>0.000000</td>\n",
              "      <td>0.0</td>\n",
              "      <td>0.0</td>\n",
              "    </tr>\n",
              "    <tr>\n",
              "      <th>1</th>\n",
              "      <td>0.0</td>\n",
              "      <td>0.0</td>\n",
              "      <td>0.0</td>\n",
              "      <td>0.0</td>\n",
              "      <td>0.0</td>\n",
              "      <td>0.000000</td>\n",
              "      <td>0.0</td>\n",
              "      <td>0.0</td>\n",
              "      <td>0.0</td>\n",
              "      <td>0.0</td>\n",
              "      <td>...</td>\n",
              "      <td>0.0</td>\n",
              "      <td>0.0</td>\n",
              "      <td>0.0</td>\n",
              "      <td>0.0</td>\n",
              "      <td>0.0</td>\n",
              "      <td>0.000000</td>\n",
              "      <td>0.0</td>\n",
              "      <td>0.000000</td>\n",
              "      <td>0.0</td>\n",
              "      <td>0.0</td>\n",
              "    </tr>\n",
              "    <tr>\n",
              "      <th>2</th>\n",
              "      <td>0.0</td>\n",
              "      <td>0.0</td>\n",
              "      <td>0.0</td>\n",
              "      <td>0.0</td>\n",
              "      <td>0.0</td>\n",
              "      <td>0.000000</td>\n",
              "      <td>0.0</td>\n",
              "      <td>0.0</td>\n",
              "      <td>0.0</td>\n",
              "      <td>0.0</td>\n",
              "      <td>...</td>\n",
              "      <td>0.0</td>\n",
              "      <td>0.0</td>\n",
              "      <td>0.0</td>\n",
              "      <td>0.0</td>\n",
              "      <td>0.0</td>\n",
              "      <td>0.000000</td>\n",
              "      <td>0.0</td>\n",
              "      <td>0.000000</td>\n",
              "      <td>0.0</td>\n",
              "      <td>0.0</td>\n",
              "    </tr>\n",
              "    <tr>\n",
              "      <th>3</th>\n",
              "      <td>0.0</td>\n",
              "      <td>0.0</td>\n",
              "      <td>0.0</td>\n",
              "      <td>0.0</td>\n",
              "      <td>0.0</td>\n",
              "      <td>1.801429</td>\n",
              "      <td>0.0</td>\n",
              "      <td>0.0</td>\n",
              "      <td>0.0</td>\n",
              "      <td>0.0</td>\n",
              "      <td>...</td>\n",
              "      <td>0.0</td>\n",
              "      <td>0.0</td>\n",
              "      <td>0.0</td>\n",
              "      <td>0.0</td>\n",
              "      <td>0.0</td>\n",
              "      <td>0.000000</td>\n",
              "      <td>0.0</td>\n",
              "      <td>1.801429</td>\n",
              "      <td>0.0</td>\n",
              "      <td>0.0</td>\n",
              "    </tr>\n",
              "    <tr>\n",
              "      <th>4</th>\n",
              "      <td>0.0</td>\n",
              "      <td>0.0</td>\n",
              "      <td>0.0</td>\n",
              "      <td>0.0</td>\n",
              "      <td>0.0</td>\n",
              "      <td>0.000000</td>\n",
              "      <td>0.0</td>\n",
              "      <td>0.0</td>\n",
              "      <td>0.0</td>\n",
              "      <td>0.0</td>\n",
              "      <td>...</td>\n",
              "      <td>0.0</td>\n",
              "      <td>0.0</td>\n",
              "      <td>0.0</td>\n",
              "      <td>0.0</td>\n",
              "      <td>0.0</td>\n",
              "      <td>0.000000</td>\n",
              "      <td>0.0</td>\n",
              "      <td>0.000000</td>\n",
              "      <td>0.0</td>\n",
              "      <td>0.0</td>\n",
              "    </tr>\n",
              "  </tbody>\n",
              "</table>\n",
              "<p>5 rows × 981 columns</p>\n",
              "</div>\n",
              "      <button class=\"colab-df-convert\" onclick=\"convertToInteractive('df-94e2a7b0-1fd7-454e-a15c-51a96a4fcfe2')\"\n",
              "              title=\"Convert this dataframe to an interactive table.\"\n",
              "              style=\"display:none;\">\n",
              "        \n",
              "  <svg xmlns=\"http://www.w3.org/2000/svg\" height=\"24px\"viewBox=\"0 0 24 24\"\n",
              "       width=\"24px\">\n",
              "    <path d=\"M0 0h24v24H0V0z\" fill=\"none\"/>\n",
              "    <path d=\"M18.56 5.44l.94 2.06.94-2.06 2.06-.94-2.06-.94-.94-2.06-.94 2.06-2.06.94zm-11 1L8.5 8.5l.94-2.06 2.06-.94-2.06-.94L8.5 2.5l-.94 2.06-2.06.94zm10 10l.94 2.06.94-2.06 2.06-.94-2.06-.94-.94-2.06-.94 2.06-2.06.94z\"/><path d=\"M17.41 7.96l-1.37-1.37c-.4-.4-.92-.59-1.43-.59-.52 0-1.04.2-1.43.59L10.3 9.45l-7.72 7.72c-.78.78-.78 2.05 0 2.83L4 21.41c.39.39.9.59 1.41.59.51 0 1.02-.2 1.41-.59l7.78-7.78 2.81-2.81c.8-.78.8-2.07 0-2.86zM5.41 20L4 18.59l7.72-7.72 1.47 1.35L5.41 20z\"/>\n",
              "  </svg>\n",
              "      </button>\n",
              "      \n",
              "  <style>\n",
              "    .colab-df-container {\n",
              "      display:flex;\n",
              "      flex-wrap:wrap;\n",
              "      gap: 12px;\n",
              "    }\n",
              "\n",
              "    .colab-df-convert {\n",
              "      background-color: #E8F0FE;\n",
              "      border: none;\n",
              "      border-radius: 50%;\n",
              "      cursor: pointer;\n",
              "      display: none;\n",
              "      fill: #1967D2;\n",
              "      height: 32px;\n",
              "      padding: 0 0 0 0;\n",
              "      width: 32px;\n",
              "    }\n",
              "\n",
              "    .colab-df-convert:hover {\n",
              "      background-color: #E2EBFA;\n",
              "      box-shadow: 0px 1px 2px rgba(60, 64, 67, 0.3), 0px 1px 3px 1px rgba(60, 64, 67, 0.15);\n",
              "      fill: #174EA6;\n",
              "    }\n",
              "\n",
              "    [theme=dark] .colab-df-convert {\n",
              "      background-color: #3B4455;\n",
              "      fill: #D2E3FC;\n",
              "    }\n",
              "\n",
              "    [theme=dark] .colab-df-convert:hover {\n",
              "      background-color: #434B5C;\n",
              "      box-shadow: 0px 1px 3px 1px rgba(0, 0, 0, 0.15);\n",
              "      filter: drop-shadow(0px 1px 2px rgba(0, 0, 0, 0.3));\n",
              "      fill: #FFFFFF;\n",
              "    }\n",
              "  </style>\n",
              "\n",
              "      <script>\n",
              "        const buttonEl =\n",
              "          document.querySelector('#df-94e2a7b0-1fd7-454e-a15c-51a96a4fcfe2 button.colab-df-convert');\n",
              "        buttonEl.style.display =\n",
              "          google.colab.kernel.accessAllowed ? 'block' : 'none';\n",
              "\n",
              "        async function convertToInteractive(key) {\n",
              "          const element = document.querySelector('#df-94e2a7b0-1fd7-454e-a15c-51a96a4fcfe2');\n",
              "          const dataTable =\n",
              "            await google.colab.kernel.invokeFunction('convertToInteractive',\n",
              "                                                     [key], {});\n",
              "          if (!dataTable) return;\n",
              "\n",
              "          const docLinkHtml = 'Like what you see? Visit the ' +\n",
              "            '<a target=\"_blank\" href=https://colab.research.google.com/notebooks/data_table.ipynb>data table notebook</a>'\n",
              "            + ' to learn more about interactive tables.';\n",
              "          element.innerHTML = '';\n",
              "          dataTable['output_type'] = 'display_data';\n",
              "          await google.colab.output.renderOutput(dataTable, element);\n",
              "          const docLink = document.createElement('div');\n",
              "          docLink.innerHTML = docLinkHtml;\n",
              "          element.appendChild(docLink);\n",
              "        }\n",
              "      </script>\n",
              "    </div>\n",
              "  </div>\n",
              "  "
            ]
          },
          "metadata": {},
          "execution_count": 24
        }
      ],
      "source": [
        "bm25_idf = pd.DataFrame(BM25_score, columns=vocabulary)\n",
        "bm25_idf.head()"
      ]
    },
    {
      "cell_type": "code",
      "execution_count": 25,
      "id": "e69df205-2194-45e6-b4cd-2b40f86f6f00",
      "metadata": {
        "colab": {
          "base_uri": "https://localhost:8080/"
        },
        "id": "e69df205-2194-45e6-b4cd-2b40f86f6f00",
        "outputId": "d18339cb-4e3e-447c-ee78-d16897258856"
      },
      "outputs": [
        {
          "output_type": "execute_result",
          "data": {
            "text/plain": [
              "['2013', '2018', '40', '600', '6th', '75', 'abil', 'abl', 'absorb', 'accept']"
            ]
          },
          "metadata": {},
          "execution_count": 25
        }
      ],
      "source": [
        "cols = list(bm25_idf.columns.values)\n",
        "cols[10:20]    # remove brackets to see full list of words to chose from"
      ]
    },
    {
      "cell_type": "code",
      "execution_count": 26,
      "id": "0a854ca5-c62b-40b4-ad4a-d68109b22116",
      "metadata": {
        "colab": {
          "base_uri": "https://localhost:8080/",
          "height": 441
        },
        "id": "0a854ca5-c62b-40b4-ad4a-d68109b22116",
        "outputId": "6fc14f98-a76f-4e58-815a-e93b17b846b0"
      },
      "outputs": [
        {
          "output_type": "stream",
          "name": "stdout",
          "text": [
            "(981, 1)\n"
          ]
        },
        {
          "output_type": "execute_result",
          "data": {
            "text/plain": [
              "         bm25_idf\n",
              "000      1.905675\n",
              "10       1.852086\n",
              "12       3.320270\n",
              "17       1.584709\n",
              "1917     1.584709\n",
              "...           ...\n",
              "years    3.922649\n",
              "yoda     1.623779\n",
              "york     1.801429\n",
              "young    7.686322\n",
              "younger  2.306009\n",
              "\n",
              "[981 rows x 1 columns]"
            ],
            "text/html": [
              "\n",
              "  <div id=\"df-6ffddaa0-81ae-4a59-b430-81bef708b13d\">\n",
              "    <div class=\"colab-df-container\">\n",
              "      <div>\n",
              "<style scoped>\n",
              "    .dataframe tbody tr th:only-of-type {\n",
              "        vertical-align: middle;\n",
              "    }\n",
              "\n",
              "    .dataframe tbody tr th {\n",
              "        vertical-align: top;\n",
              "    }\n",
              "\n",
              "    .dataframe thead th {\n",
              "        text-align: right;\n",
              "    }\n",
              "</style>\n",
              "<table border=\"1\" class=\"dataframe\">\n",
              "  <thead>\n",
              "    <tr style=\"text-align: right;\">\n",
              "      <th></th>\n",
              "      <th>bm25_idf</th>\n",
              "    </tr>\n",
              "  </thead>\n",
              "  <tbody>\n",
              "    <tr>\n",
              "      <th>000</th>\n",
              "      <td>1.905675</td>\n",
              "    </tr>\n",
              "    <tr>\n",
              "      <th>10</th>\n",
              "      <td>1.852086</td>\n",
              "    </tr>\n",
              "    <tr>\n",
              "      <th>12</th>\n",
              "      <td>3.320270</td>\n",
              "    </tr>\n",
              "    <tr>\n",
              "      <th>17</th>\n",
              "      <td>1.584709</td>\n",
              "    </tr>\n",
              "    <tr>\n",
              "      <th>1917</th>\n",
              "      <td>1.584709</td>\n",
              "    </tr>\n",
              "    <tr>\n",
              "      <th>...</th>\n",
              "      <td>...</td>\n",
              "    </tr>\n",
              "    <tr>\n",
              "      <th>years</th>\n",
              "      <td>3.922649</td>\n",
              "    </tr>\n",
              "    <tr>\n",
              "      <th>yoda</th>\n",
              "      <td>1.623779</td>\n",
              "    </tr>\n",
              "    <tr>\n",
              "      <th>york</th>\n",
              "      <td>1.801429</td>\n",
              "    </tr>\n",
              "    <tr>\n",
              "      <th>young</th>\n",
              "      <td>7.686322</td>\n",
              "    </tr>\n",
              "    <tr>\n",
              "      <th>younger</th>\n",
              "      <td>2.306009</td>\n",
              "    </tr>\n",
              "  </tbody>\n",
              "</table>\n",
              "<p>981 rows × 1 columns</p>\n",
              "</div>\n",
              "      <button class=\"colab-df-convert\" onclick=\"convertToInteractive('df-6ffddaa0-81ae-4a59-b430-81bef708b13d')\"\n",
              "              title=\"Convert this dataframe to an interactive table.\"\n",
              "              style=\"display:none;\">\n",
              "        \n",
              "  <svg xmlns=\"http://www.w3.org/2000/svg\" height=\"24px\"viewBox=\"0 0 24 24\"\n",
              "       width=\"24px\">\n",
              "    <path d=\"M0 0h24v24H0V0z\" fill=\"none\"/>\n",
              "    <path d=\"M18.56 5.44l.94 2.06.94-2.06 2.06-.94-2.06-.94-.94-2.06-.94 2.06-2.06.94zm-11 1L8.5 8.5l.94-2.06 2.06-.94-2.06-.94L8.5 2.5l-.94 2.06-2.06.94zm10 10l.94 2.06.94-2.06 2.06-.94-2.06-.94-.94-2.06-.94 2.06-2.06.94z\"/><path d=\"M17.41 7.96l-1.37-1.37c-.4-.4-.92-.59-1.43-.59-.52 0-1.04.2-1.43.59L10.3 9.45l-7.72 7.72c-.78.78-.78 2.05 0 2.83L4 21.41c.39.39.9.59 1.41.59.51 0 1.02-.2 1.41-.59l7.78-7.78 2.81-2.81c.8-.78.8-2.07 0-2.86zM5.41 20L4 18.59l7.72-7.72 1.47 1.35L5.41 20z\"/>\n",
              "  </svg>\n",
              "      </button>\n",
              "      \n",
              "  <style>\n",
              "    .colab-df-container {\n",
              "      display:flex;\n",
              "      flex-wrap:wrap;\n",
              "      gap: 12px;\n",
              "    }\n",
              "\n",
              "    .colab-df-convert {\n",
              "      background-color: #E8F0FE;\n",
              "      border: none;\n",
              "      border-radius: 50%;\n",
              "      cursor: pointer;\n",
              "      display: none;\n",
              "      fill: #1967D2;\n",
              "      height: 32px;\n",
              "      padding: 0 0 0 0;\n",
              "      width: 32px;\n",
              "    }\n",
              "\n",
              "    .colab-df-convert:hover {\n",
              "      background-color: #E2EBFA;\n",
              "      box-shadow: 0px 1px 2px rgba(60, 64, 67, 0.3), 0px 1px 3px 1px rgba(60, 64, 67, 0.15);\n",
              "      fill: #174EA6;\n",
              "    }\n",
              "\n",
              "    [theme=dark] .colab-df-convert {\n",
              "      background-color: #3B4455;\n",
              "      fill: #D2E3FC;\n",
              "    }\n",
              "\n",
              "    [theme=dark] .colab-df-convert:hover {\n",
              "      background-color: #434B5C;\n",
              "      box-shadow: 0px 1px 3px 1px rgba(0, 0, 0, 0.15);\n",
              "      filter: drop-shadow(0px 1px 2px rgba(0, 0, 0, 0.3));\n",
              "      fill: #FFFFFF;\n",
              "    }\n",
              "  </style>\n",
              "\n",
              "      <script>\n",
              "        const buttonEl =\n",
              "          document.querySelector('#df-6ffddaa0-81ae-4a59-b430-81bef708b13d button.colab-df-convert');\n",
              "        buttonEl.style.display =\n",
              "          google.colab.kernel.accessAllowed ? 'block' : 'none';\n",
              "\n",
              "        async function convertToInteractive(key) {\n",
              "          const element = document.querySelector('#df-6ffddaa0-81ae-4a59-b430-81bef708b13d');\n",
              "          const dataTable =\n",
              "            await google.colab.kernel.invokeFunction('convertToInteractive',\n",
              "                                                     [key], {});\n",
              "          if (!dataTable) return;\n",
              "\n",
              "          const docLinkHtml = 'Like what you see? Visit the ' +\n",
              "            '<a target=\"_blank\" href=https://colab.research.google.com/notebooks/data_table.ipynb>data table notebook</a>'\n",
              "            + ' to learn more about interactive tables.';\n",
              "          element.innerHTML = '';\n",
              "          dataTable['output_type'] = 'display_data';\n",
              "          await google.colab.output.renderOutput(dataTable, element);\n",
              "          const docLink = document.createElement('div');\n",
              "          docLink.innerHTML = docLinkHtml;\n",
              "          element.appendChild(docLink);\n",
              "        }\n",
              "      </script>\n",
              "    </div>\n",
              "  </div>\n",
              "  "
            ]
          },
          "metadata": {},
          "execution_count": 26
        }
      ],
      "source": [
        "sum_of = bm25_idf.sum(axis=0) \n",
        "df_sum = pd.DataFrame(sum_of, columns=['bm25_idf'])\n",
        "print(df_sum.shape)\n",
        "df_sum"
      ]
    },
    {
      "cell_type": "code",
      "execution_count": 27,
      "id": "d2b0b515-6a38-41d1-9a9b-9b7de6e45f0e",
      "metadata": {
        "colab": {
          "base_uri": "https://localhost:8080/",
          "height": 488
        },
        "id": "d2b0b515-6a38-41d1-9a9b-9b7de6e45f0e",
        "outputId": "1bbf1054-dad1-40ed-a84a-1ae7ac03c550"
      },
      "outputs": [
        {
          "output_type": "execute_result",
          "data": {
            "text/plain": [
              "    000   10   12   17  1917      1920  1936  1950  1980  1984  ...  wrestler  \\\n",
              "0   0.0  0.0  0.0  0.0   0.0  0.000000   0.0   0.0   0.0   0.0  ...       0.0   \n",
              "1   0.0  0.0  0.0  0.0   0.0  0.000000   0.0   0.0   0.0   0.0  ...       0.0   \n",
              "2   0.0  0.0  0.0  0.0   0.0  0.000000   0.0   0.0   0.0   0.0  ...       0.0   \n",
              "3   0.0  0.0  0.0  0.0   0.0  1.801429   0.0   0.0   0.0   0.0  ...       0.0   \n",
              "4   0.0  0.0  0.0  0.0   0.0  0.000000   0.0   0.0   0.0   0.0  ...       0.0   \n",
              "..  ...  ...  ...  ...   ...       ...   ...   ...   ...   ...  ...       ...   \n",
              "95  0.0  0.0  0.0  0.0   0.0  0.000000   0.0   0.0   0.0   0.0  ...       0.0   \n",
              "96  0.0  0.0  0.0  0.0   0.0  0.000000   0.0   0.0   0.0   0.0  ...       0.0   \n",
              "97  0.0  0.0  0.0  0.0   0.0  0.000000   0.0   0.0   0.0   0.0  ...       0.0   \n",
              "98  0.0  0.0  0.0  0.0   0.0  0.000000   0.0   0.0   0.0   0.0  ...       0.0   \n",
              "99  0.0  0.0  0.0  0.0   0.0  0.000000   0.0   0.0   0.0   0.0  ...       0.0   \n",
              "\n",
              "    writer  wrong  wrongli  year     years  yoda      york  young  younger  \n",
              "0      0.0    0.0      0.0   0.0  1.892654   0.0  0.000000    0.0      0.0  \n",
              "1      0.0    0.0      0.0   0.0  0.000000   0.0  0.000000    0.0      0.0  \n",
              "2      0.0    0.0      0.0   0.0  0.000000   0.0  0.000000    0.0      0.0  \n",
              "3      0.0    0.0      0.0   0.0  0.000000   0.0  1.801429    0.0      0.0  \n",
              "4      0.0    0.0      0.0   0.0  0.000000   0.0  0.000000    0.0      0.0  \n",
              "..     ...    ...      ...   ...       ...   ...       ...    ...      ...  \n",
              "95     0.0    0.0      0.0   0.0  0.000000   0.0  0.000000    0.0      0.0  \n",
              "96     0.0    0.0      0.0   0.0  0.000000   0.0  0.000000    0.0      0.0  \n",
              "97     0.0    0.0      0.0   0.0  0.000000   0.0  0.000000    0.0      0.0  \n",
              "98     0.0    0.0      0.0   0.0  0.000000   0.0  0.000000    0.0      0.0  \n",
              "99     0.0    0.0      0.0   0.0  0.000000   0.0  0.000000    0.0      0.0  \n",
              "\n",
              "[100 rows x 981 columns]"
            ],
            "text/html": [
              "\n",
              "  <div id=\"df-3f250a35-dc80-4544-80cd-cd6052d97161\">\n",
              "    <div class=\"colab-df-container\">\n",
              "      <div>\n",
              "<style scoped>\n",
              "    .dataframe tbody tr th:only-of-type {\n",
              "        vertical-align: middle;\n",
              "    }\n",
              "\n",
              "    .dataframe tbody tr th {\n",
              "        vertical-align: top;\n",
              "    }\n",
              "\n",
              "    .dataframe thead th {\n",
              "        text-align: right;\n",
              "    }\n",
              "</style>\n",
              "<table border=\"1\" class=\"dataframe\">\n",
              "  <thead>\n",
              "    <tr style=\"text-align: right;\">\n",
              "      <th></th>\n",
              "      <th>000</th>\n",
              "      <th>10</th>\n",
              "      <th>12</th>\n",
              "      <th>17</th>\n",
              "      <th>1917</th>\n",
              "      <th>1920</th>\n",
              "      <th>1936</th>\n",
              "      <th>1950</th>\n",
              "      <th>1980</th>\n",
              "      <th>1984</th>\n",
              "      <th>...</th>\n",
              "      <th>wrestler</th>\n",
              "      <th>writer</th>\n",
              "      <th>wrong</th>\n",
              "      <th>wrongli</th>\n",
              "      <th>year</th>\n",
              "      <th>years</th>\n",
              "      <th>yoda</th>\n",
              "      <th>york</th>\n",
              "      <th>young</th>\n",
              "      <th>younger</th>\n",
              "    </tr>\n",
              "  </thead>\n",
              "  <tbody>\n",
              "    <tr>\n",
              "      <th>0</th>\n",
              "      <td>0.0</td>\n",
              "      <td>0.0</td>\n",
              "      <td>0.0</td>\n",
              "      <td>0.0</td>\n",
              "      <td>0.0</td>\n",
              "      <td>0.000000</td>\n",
              "      <td>0.0</td>\n",
              "      <td>0.0</td>\n",
              "      <td>0.0</td>\n",
              "      <td>0.0</td>\n",
              "      <td>...</td>\n",
              "      <td>0.0</td>\n",
              "      <td>0.0</td>\n",
              "      <td>0.0</td>\n",
              "      <td>0.0</td>\n",
              "      <td>0.0</td>\n",
              "      <td>1.892654</td>\n",
              "      <td>0.0</td>\n",
              "      <td>0.000000</td>\n",
              "      <td>0.0</td>\n",
              "      <td>0.0</td>\n",
              "    </tr>\n",
              "    <tr>\n",
              "      <th>1</th>\n",
              "      <td>0.0</td>\n",
              "      <td>0.0</td>\n",
              "      <td>0.0</td>\n",
              "      <td>0.0</td>\n",
              "      <td>0.0</td>\n",
              "      <td>0.000000</td>\n",
              "      <td>0.0</td>\n",
              "      <td>0.0</td>\n",
              "      <td>0.0</td>\n",
              "      <td>0.0</td>\n",
              "      <td>...</td>\n",
              "      <td>0.0</td>\n",
              "      <td>0.0</td>\n",
              "      <td>0.0</td>\n",
              "      <td>0.0</td>\n",
              "      <td>0.0</td>\n",
              "      <td>0.000000</td>\n",
              "      <td>0.0</td>\n",
              "      <td>0.000000</td>\n",
              "      <td>0.0</td>\n",
              "      <td>0.0</td>\n",
              "    </tr>\n",
              "    <tr>\n",
              "      <th>2</th>\n",
              "      <td>0.0</td>\n",
              "      <td>0.0</td>\n",
              "      <td>0.0</td>\n",
              "      <td>0.0</td>\n",
              "      <td>0.0</td>\n",
              "      <td>0.000000</td>\n",
              "      <td>0.0</td>\n",
              "      <td>0.0</td>\n",
              "      <td>0.0</td>\n",
              "      <td>0.0</td>\n",
              "      <td>...</td>\n",
              "      <td>0.0</td>\n",
              "      <td>0.0</td>\n",
              "      <td>0.0</td>\n",
              "      <td>0.0</td>\n",
              "      <td>0.0</td>\n",
              "      <td>0.000000</td>\n",
              "      <td>0.0</td>\n",
              "      <td>0.000000</td>\n",
              "      <td>0.0</td>\n",
              "      <td>0.0</td>\n",
              "    </tr>\n",
              "    <tr>\n",
              "      <th>3</th>\n",
              "      <td>0.0</td>\n",
              "      <td>0.0</td>\n",
              "      <td>0.0</td>\n",
              "      <td>0.0</td>\n",
              "      <td>0.0</td>\n",
              "      <td>1.801429</td>\n",
              "      <td>0.0</td>\n",
              "      <td>0.0</td>\n",
              "      <td>0.0</td>\n",
              "      <td>0.0</td>\n",
              "      <td>...</td>\n",
              "      <td>0.0</td>\n",
              "      <td>0.0</td>\n",
              "      <td>0.0</td>\n",
              "      <td>0.0</td>\n",
              "      <td>0.0</td>\n",
              "      <td>0.000000</td>\n",
              "      <td>0.0</td>\n",
              "      <td>1.801429</td>\n",
              "      <td>0.0</td>\n",
              "      <td>0.0</td>\n",
              "    </tr>\n",
              "    <tr>\n",
              "      <th>4</th>\n",
              "      <td>0.0</td>\n",
              "      <td>0.0</td>\n",
              "      <td>0.0</td>\n",
              "      <td>0.0</td>\n",
              "      <td>0.0</td>\n",
              "      <td>0.000000</td>\n",
              "      <td>0.0</td>\n",
              "      <td>0.0</td>\n",
              "      <td>0.0</td>\n",
              "      <td>0.0</td>\n",
              "      <td>...</td>\n",
              "      <td>0.0</td>\n",
              "      <td>0.0</td>\n",
              "      <td>0.0</td>\n",
              "      <td>0.0</td>\n",
              "      <td>0.0</td>\n",
              "      <td>0.000000</td>\n",
              "      <td>0.0</td>\n",
              "      <td>0.000000</td>\n",
              "      <td>0.0</td>\n",
              "      <td>0.0</td>\n",
              "    </tr>\n",
              "    <tr>\n",
              "      <th>...</th>\n",
              "      <td>...</td>\n",
              "      <td>...</td>\n",
              "      <td>...</td>\n",
              "      <td>...</td>\n",
              "      <td>...</td>\n",
              "      <td>...</td>\n",
              "      <td>...</td>\n",
              "      <td>...</td>\n",
              "      <td>...</td>\n",
              "      <td>...</td>\n",
              "      <td>...</td>\n",
              "      <td>...</td>\n",
              "      <td>...</td>\n",
              "      <td>...</td>\n",
              "      <td>...</td>\n",
              "      <td>...</td>\n",
              "      <td>...</td>\n",
              "      <td>...</td>\n",
              "      <td>...</td>\n",
              "      <td>...</td>\n",
              "      <td>...</td>\n",
              "    </tr>\n",
              "    <tr>\n",
              "      <th>95</th>\n",
              "      <td>0.0</td>\n",
              "      <td>0.0</td>\n",
              "      <td>0.0</td>\n",
              "      <td>0.0</td>\n",
              "      <td>0.0</td>\n",
              "      <td>0.000000</td>\n",
              "      <td>0.0</td>\n",
              "      <td>0.0</td>\n",
              "      <td>0.0</td>\n",
              "      <td>0.0</td>\n",
              "      <td>...</td>\n",
              "      <td>0.0</td>\n",
              "      <td>0.0</td>\n",
              "      <td>0.0</td>\n",
              "      <td>0.0</td>\n",
              "      <td>0.0</td>\n",
              "      <td>0.000000</td>\n",
              "      <td>0.0</td>\n",
              "      <td>0.000000</td>\n",
              "      <td>0.0</td>\n",
              "      <td>0.0</td>\n",
              "    </tr>\n",
              "    <tr>\n",
              "      <th>96</th>\n",
              "      <td>0.0</td>\n",
              "      <td>0.0</td>\n",
              "      <td>0.0</td>\n",
              "      <td>0.0</td>\n",
              "      <td>0.0</td>\n",
              "      <td>0.000000</td>\n",
              "      <td>0.0</td>\n",
              "      <td>0.0</td>\n",
              "      <td>0.0</td>\n",
              "      <td>0.0</td>\n",
              "      <td>...</td>\n",
              "      <td>0.0</td>\n",
              "      <td>0.0</td>\n",
              "      <td>0.0</td>\n",
              "      <td>0.0</td>\n",
              "      <td>0.0</td>\n",
              "      <td>0.000000</td>\n",
              "      <td>0.0</td>\n",
              "      <td>0.000000</td>\n",
              "      <td>0.0</td>\n",
              "      <td>0.0</td>\n",
              "    </tr>\n",
              "    <tr>\n",
              "      <th>97</th>\n",
              "      <td>0.0</td>\n",
              "      <td>0.0</td>\n",
              "      <td>0.0</td>\n",
              "      <td>0.0</td>\n",
              "      <td>0.0</td>\n",
              "      <td>0.000000</td>\n",
              "      <td>0.0</td>\n",
              "      <td>0.0</td>\n",
              "      <td>0.0</td>\n",
              "      <td>0.0</td>\n",
              "      <td>...</td>\n",
              "      <td>0.0</td>\n",
              "      <td>0.0</td>\n",
              "      <td>0.0</td>\n",
              "      <td>0.0</td>\n",
              "      <td>0.0</td>\n",
              "      <td>0.000000</td>\n",
              "      <td>0.0</td>\n",
              "      <td>0.000000</td>\n",
              "      <td>0.0</td>\n",
              "      <td>0.0</td>\n",
              "    </tr>\n",
              "    <tr>\n",
              "      <th>98</th>\n",
              "      <td>0.0</td>\n",
              "      <td>0.0</td>\n",
              "      <td>0.0</td>\n",
              "      <td>0.0</td>\n",
              "      <td>0.0</td>\n",
              "      <td>0.000000</td>\n",
              "      <td>0.0</td>\n",
              "      <td>0.0</td>\n",
              "      <td>0.0</td>\n",
              "      <td>0.0</td>\n",
              "      <td>...</td>\n",
              "      <td>0.0</td>\n",
              "      <td>0.0</td>\n",
              "      <td>0.0</td>\n",
              "      <td>0.0</td>\n",
              "      <td>0.0</td>\n",
              "      <td>0.000000</td>\n",
              "      <td>0.0</td>\n",
              "      <td>0.000000</td>\n",
              "      <td>0.0</td>\n",
              "      <td>0.0</td>\n",
              "    </tr>\n",
              "    <tr>\n",
              "      <th>99</th>\n",
              "      <td>0.0</td>\n",
              "      <td>0.0</td>\n",
              "      <td>0.0</td>\n",
              "      <td>0.0</td>\n",
              "      <td>0.0</td>\n",
              "      <td>0.000000</td>\n",
              "      <td>0.0</td>\n",
              "      <td>0.0</td>\n",
              "      <td>0.0</td>\n",
              "      <td>0.0</td>\n",
              "      <td>...</td>\n",
              "      <td>0.0</td>\n",
              "      <td>0.0</td>\n",
              "      <td>0.0</td>\n",
              "      <td>0.0</td>\n",
              "      <td>0.0</td>\n",
              "      <td>0.000000</td>\n",
              "      <td>0.0</td>\n",
              "      <td>0.000000</td>\n",
              "      <td>0.0</td>\n",
              "      <td>0.0</td>\n",
              "    </tr>\n",
              "  </tbody>\n",
              "</table>\n",
              "<p>100 rows × 981 columns</p>\n",
              "</div>\n",
              "      <button class=\"colab-df-convert\" onclick=\"convertToInteractive('df-3f250a35-dc80-4544-80cd-cd6052d97161')\"\n",
              "              title=\"Convert this dataframe to an interactive table.\"\n",
              "              style=\"display:none;\">\n",
              "        \n",
              "  <svg xmlns=\"http://www.w3.org/2000/svg\" height=\"24px\"viewBox=\"0 0 24 24\"\n",
              "       width=\"24px\">\n",
              "    <path d=\"M0 0h24v24H0V0z\" fill=\"none\"/>\n",
              "    <path d=\"M18.56 5.44l.94 2.06.94-2.06 2.06-.94-2.06-.94-.94-2.06-.94 2.06-2.06.94zm-11 1L8.5 8.5l.94-2.06 2.06-.94-2.06-.94L8.5 2.5l-.94 2.06-2.06.94zm10 10l.94 2.06.94-2.06 2.06-.94-2.06-.94-.94-2.06-.94 2.06-2.06.94z\"/><path d=\"M17.41 7.96l-1.37-1.37c-.4-.4-.92-.59-1.43-.59-.52 0-1.04.2-1.43.59L10.3 9.45l-7.72 7.72c-.78.78-.78 2.05 0 2.83L4 21.41c.39.39.9.59 1.41.59.51 0 1.02-.2 1.41-.59l7.78-7.78 2.81-2.81c.8-.78.8-2.07 0-2.86zM5.41 20L4 18.59l7.72-7.72 1.47 1.35L5.41 20z\"/>\n",
              "  </svg>\n",
              "      </button>\n",
              "      \n",
              "  <style>\n",
              "    .colab-df-container {\n",
              "      display:flex;\n",
              "      flex-wrap:wrap;\n",
              "      gap: 12px;\n",
              "    }\n",
              "\n",
              "    .colab-df-convert {\n",
              "      background-color: #E8F0FE;\n",
              "      border: none;\n",
              "      border-radius: 50%;\n",
              "      cursor: pointer;\n",
              "      display: none;\n",
              "      fill: #1967D2;\n",
              "      height: 32px;\n",
              "      padding: 0 0 0 0;\n",
              "      width: 32px;\n",
              "    }\n",
              "\n",
              "    .colab-df-convert:hover {\n",
              "      background-color: #E2EBFA;\n",
              "      box-shadow: 0px 1px 2px rgba(60, 64, 67, 0.3), 0px 1px 3px 1px rgba(60, 64, 67, 0.15);\n",
              "      fill: #174EA6;\n",
              "    }\n",
              "\n",
              "    [theme=dark] .colab-df-convert {\n",
              "      background-color: #3B4455;\n",
              "      fill: #D2E3FC;\n",
              "    }\n",
              "\n",
              "    [theme=dark] .colab-df-convert:hover {\n",
              "      background-color: #434B5C;\n",
              "      box-shadow: 0px 1px 3px 1px rgba(0, 0, 0, 0.15);\n",
              "      filter: drop-shadow(0px 1px 2px rgba(0, 0, 0, 0.3));\n",
              "      fill: #FFFFFF;\n",
              "    }\n",
              "  </style>\n",
              "\n",
              "      <script>\n",
              "        const buttonEl =\n",
              "          document.querySelector('#df-3f250a35-dc80-4544-80cd-cd6052d97161 button.colab-df-convert');\n",
              "        buttonEl.style.display =\n",
              "          google.colab.kernel.accessAllowed ? 'block' : 'none';\n",
              "\n",
              "        async function convertToInteractive(key) {\n",
              "          const element = document.querySelector('#df-3f250a35-dc80-4544-80cd-cd6052d97161');\n",
              "          const dataTable =\n",
              "            await google.colab.kernel.invokeFunction('convertToInteractive',\n",
              "                                                     [key], {});\n",
              "          if (!dataTable) return;\n",
              "\n",
              "          const docLinkHtml = 'Like what you see? Visit the ' +\n",
              "            '<a target=\"_blank\" href=https://colab.research.google.com/notebooks/data_table.ipynb>data table notebook</a>'\n",
              "            + ' to learn more about interactive tables.';\n",
              "          element.innerHTML = '';\n",
              "          dataTable['output_type'] = 'display_data';\n",
              "          await google.colab.output.renderOutput(dataTable, element);\n",
              "          const docLink = document.createElement('div');\n",
              "          docLink.innerHTML = docLinkHtml;\n",
              "          element.appendChild(docLink);\n",
              "        }\n",
              "      </script>\n",
              "    </div>\n",
              "  </div>\n",
              "  "
            ]
          },
          "metadata": {},
          "execution_count": 27
        }
      ],
      "source": [
        "bm25_idf"
      ]
    },
    {
      "cell_type": "code",
      "execution_count": 28,
      "id": "0fc205ba-f213-4e5f-a6b0-e33d0020f4cc",
      "metadata": {
        "id": "0fc205ba-f213-4e5f-a6b0-e33d0020f4cc"
      },
      "outputs": [],
      "source": [
        "df_sum_gt = df_sum[df_sum['bm25_idf']>1]     # lt = less than,  gt = greater than\n",
        "#df_sum_gt"
      ]
    },
    {
      "cell_type": "markdown",
      "id": "65fbcde9-7680-4348-a51d-4d984555c5d9",
      "metadata": {
        "id": "65fbcde9-7680-4348-a51d-4d984555c5d9"
      },
      "source": [
        " \n",
        "\n",
        "---\n",
        "\n",
        "\n",
        "\n",
        "---\n",
        "\n"
      ]
    },
    {
      "cell_type": "markdown",
      "id": "23d12756-aafb-4052-b954-1c1bc0c61d8d",
      "metadata": {
        "id": "23d12756-aafb-4052-b954-1c1bc0c61d8d"
      },
      "source": [
        "# Scoring the Query"
      ]
    },
    {
      "cell_type": "code",
      "execution_count": 29,
      "id": "d2fb043e-5bd5-4368-b888-664b15fd2f0d",
      "metadata": {
        "id": "d2fb043e-5bd5-4368-b888-664b15fd2f0d"
      },
      "outputs": [],
      "source": [
        "q_terms_only_df = bm25_idf[df_q['Query']]\n",
        "\n",
        "score_q_d = q_terms_only_df.sum(axis=1)"
      ]
    },
    {
      "cell_type": "markdown",
      "id": "3fa3816d-e2f3-442b-bd52-1086ffbcc076",
      "metadata": {
        "id": "3fa3816d-e2f3-442b-bd52-1086ffbcc076"
      },
      "source": [
        " \n",
        "\n",
        "---\n",
        "\n",
        "\n",
        "\n",
        "---\n",
        "\n"
      ]
    },
    {
      "cell_type": "markdown",
      "id": "b4b6770e-b788-4483-ac6d-24e2481c0508",
      "metadata": {
        "id": "b4b6770e-b788-4483-ac6d-24e2481c0508"
      },
      "source": [
        "# Results Investigation"
      ]
    },
    {
      "cell_type": "code",
      "execution_count": 30,
      "id": "b2951c1f-36d3-4a79-a5c9-9b5fa100e645",
      "metadata": {
        "id": "b2951c1f-36d3-4a79-a5c9-9b5fa100e645"
      },
      "outputs": [],
      "source": [
        "# rank the documents\n",
        "result = sorted(zip(documents,score_q_d.values), key = lambda tup:tup[1], reverse=True)\n",
        "# We have now ranked each document, retrieving documents closely related to query"
      ]
    },
    {
      "cell_type": "code",
      "execution_count": 31,
      "id": "2e9c6f62-6b67-4547-b325-4508648237e9",
      "metadata": {
        "colab": {
          "base_uri": "https://localhost:8080/"
        },
        "id": "2e9c6f62-6b67-4547-b325-4508648237e9",
        "outputId": "cf2809be-38b3-4eff-df84-43dae5dac4f7"
      },
      "outputs": [
        {
          "output_type": "execute_result",
          "data": {
            "text/plain": [
              "[('A sole survivor tell twisti event lead horrif gun battl boat, begin five crimin meet seemingli random polic lineup.',\n",
              "  3.262337535393529),\n",
              " ('after tragic accident, two stage magician engag battl creat ultim illus sacrific everyth outwit other.',\n",
              "  1.6409767493316905),\n",
              " (\"luke skywalk join forc jedi knight, cocki pilot, wookie two droid save galaxi empire' world-destroy battl station, also attempt rescu princess leia mysteri darth vader.\",\n",
              "  1.1783089237396251)]"
            ]
          },
          "metadata": {},
          "execution_count": 31
        }
      ],
      "source": [
        "result = [x for x in result if not 0.0 in x]\n",
        "result    # add [0] for single results"
      ]
    },
    {
      "cell_type": "code",
      "execution_count": 32,
      "id": "f9310ae4-198b-401e-a0e3-5e2af9924dba",
      "metadata": {
        "colab": {
          "base_uri": "https://localhost:8080/",
          "height": 143
        },
        "id": "f9310ae4-198b-401e-a0e3-5e2af9924dba",
        "outputId": "64a5f5af-f29d-451c-da4e-c8f320c341c9"
      },
      "outputs": [
        {
          "output_type": "execute_result",
          "data": {
            "text/plain": [
              "                                                   0         1\n",
              "0  A sole survivor tell twisti event lead horrif ...  3.262338\n",
              "1  after tragic accident, two stage magician enga...  1.640977\n",
              "2  luke skywalk join forc jedi knight, cocki pilo...  1.178309"
            ],
            "text/html": [
              "\n",
              "  <div id=\"df-a1350dd6-072d-4d41-8ba1-300703f90b42\">\n",
              "    <div class=\"colab-df-container\">\n",
              "      <div>\n",
              "<style scoped>\n",
              "    .dataframe tbody tr th:only-of-type {\n",
              "        vertical-align: middle;\n",
              "    }\n",
              "\n",
              "    .dataframe tbody tr th {\n",
              "        vertical-align: top;\n",
              "    }\n",
              "\n",
              "    .dataframe thead th {\n",
              "        text-align: right;\n",
              "    }\n",
              "</style>\n",
              "<table border=\"1\" class=\"dataframe\">\n",
              "  <thead>\n",
              "    <tr style=\"text-align: right;\">\n",
              "      <th></th>\n",
              "      <th>0</th>\n",
              "      <th>1</th>\n",
              "    </tr>\n",
              "  </thead>\n",
              "  <tbody>\n",
              "    <tr>\n",
              "      <th>0</th>\n",
              "      <td>A sole survivor tell twisti event lead horrif ...</td>\n",
              "      <td>3.262338</td>\n",
              "    </tr>\n",
              "    <tr>\n",
              "      <th>1</th>\n",
              "      <td>after tragic accident, two stage magician enga...</td>\n",
              "      <td>1.640977</td>\n",
              "    </tr>\n",
              "    <tr>\n",
              "      <th>2</th>\n",
              "      <td>luke skywalk join forc jedi knight, cocki pilo...</td>\n",
              "      <td>1.178309</td>\n",
              "    </tr>\n",
              "  </tbody>\n",
              "</table>\n",
              "</div>\n",
              "      <button class=\"colab-df-convert\" onclick=\"convertToInteractive('df-a1350dd6-072d-4d41-8ba1-300703f90b42')\"\n",
              "              title=\"Convert this dataframe to an interactive table.\"\n",
              "              style=\"display:none;\">\n",
              "        \n",
              "  <svg xmlns=\"http://www.w3.org/2000/svg\" height=\"24px\"viewBox=\"0 0 24 24\"\n",
              "       width=\"24px\">\n",
              "    <path d=\"M0 0h24v24H0V0z\" fill=\"none\"/>\n",
              "    <path d=\"M18.56 5.44l.94 2.06.94-2.06 2.06-.94-2.06-.94-.94-2.06-.94 2.06-2.06.94zm-11 1L8.5 8.5l.94-2.06 2.06-.94-2.06-.94L8.5 2.5l-.94 2.06-2.06.94zm10 10l.94 2.06.94-2.06 2.06-.94-2.06-.94-.94-2.06-.94 2.06-2.06.94z\"/><path d=\"M17.41 7.96l-1.37-1.37c-.4-.4-.92-.59-1.43-.59-.52 0-1.04.2-1.43.59L10.3 9.45l-7.72 7.72c-.78.78-.78 2.05 0 2.83L4 21.41c.39.39.9.59 1.41.59.51 0 1.02-.2 1.41-.59l7.78-7.78 2.81-2.81c.8-.78.8-2.07 0-2.86zM5.41 20L4 18.59l7.72-7.72 1.47 1.35L5.41 20z\"/>\n",
              "  </svg>\n",
              "      </button>\n",
              "      \n",
              "  <style>\n",
              "    .colab-df-container {\n",
              "      display:flex;\n",
              "      flex-wrap:wrap;\n",
              "      gap: 12px;\n",
              "    }\n",
              "\n",
              "    .colab-df-convert {\n",
              "      background-color: #E8F0FE;\n",
              "      border: none;\n",
              "      border-radius: 50%;\n",
              "      cursor: pointer;\n",
              "      display: none;\n",
              "      fill: #1967D2;\n",
              "      height: 32px;\n",
              "      padding: 0 0 0 0;\n",
              "      width: 32px;\n",
              "    }\n",
              "\n",
              "    .colab-df-convert:hover {\n",
              "      background-color: #E2EBFA;\n",
              "      box-shadow: 0px 1px 2px rgba(60, 64, 67, 0.3), 0px 1px 3px 1px rgba(60, 64, 67, 0.15);\n",
              "      fill: #174EA6;\n",
              "    }\n",
              "\n",
              "    [theme=dark] .colab-df-convert {\n",
              "      background-color: #3B4455;\n",
              "      fill: #D2E3FC;\n",
              "    }\n",
              "\n",
              "    [theme=dark] .colab-df-convert:hover {\n",
              "      background-color: #434B5C;\n",
              "      box-shadow: 0px 1px 3px 1px rgba(0, 0, 0, 0.15);\n",
              "      filter: drop-shadow(0px 1px 2px rgba(0, 0, 0, 0.3));\n",
              "      fill: #FFFFFF;\n",
              "    }\n",
              "  </style>\n",
              "\n",
              "      <script>\n",
              "        const buttonEl =\n",
              "          document.querySelector('#df-a1350dd6-072d-4d41-8ba1-300703f90b42 button.colab-df-convert');\n",
              "        buttonEl.style.display =\n",
              "          google.colab.kernel.accessAllowed ? 'block' : 'none';\n",
              "\n",
              "        async function convertToInteractive(key) {\n",
              "          const element = document.querySelector('#df-a1350dd6-072d-4d41-8ba1-300703f90b42');\n",
              "          const dataTable =\n",
              "            await google.colab.kernel.invokeFunction('convertToInteractive',\n",
              "                                                     [key], {});\n",
              "          if (!dataTable) return;\n",
              "\n",
              "          const docLinkHtml = 'Like what you see? Visit the ' +\n",
              "            '<a target=\"_blank\" href=https://colab.research.google.com/notebooks/data_table.ipynb>data table notebook</a>'\n",
              "            + ' to learn more about interactive tables.';\n",
              "          element.innerHTML = '';\n",
              "          dataTable['output_type'] = 'display_data';\n",
              "          await google.colab.output.renderOutput(dataTable, element);\n",
              "          const docLink = document.createElement('div');\n",
              "          docLink.innerHTML = docLinkHtml;\n",
              "          element.appendChild(docLink);\n",
              "        }\n",
              "      </script>\n",
              "    </div>\n",
              "  </div>\n",
              "  "
            ]
          },
          "metadata": {},
          "execution_count": 32
        }
      ],
      "source": [
        "def_res = pd.DataFrame(result)\n",
        "def_res"
      ]
    },
    {
      "cell_type": "markdown",
      "id": "ece5fa42-77c7-4211-990d-4561b8e01329",
      "metadata": {
        "id": "ece5fa42-77c7-4211-990d-4561b8e01329"
      },
      "source": [
        " \n",
        "\n",
        "---\n",
        "\n",
        "\n",
        "\n",
        "---\n",
        "\n"
      ]
    },
    {
      "cell_type": "markdown",
      "id": "bcd383f6-7c35-4498-98c4-797b7a43cd52",
      "metadata": {
        "id": "bcd383f6-7c35-4498-98c4-797b7a43cd52"
      },
      "source": [
        "# Final Resultant Output"
      ]
    },
    {
      "cell_type": "code",
      "execution_count": 33,
      "id": "1179c7b0-594f-4289-94d8-dbd15371eb6f",
      "metadata": {
        "colab": {
          "base_uri": "https://localhost:8080/",
          "height": 53
        },
        "id": "1179c7b0-594f-4289-94d8-dbd15371eb6f",
        "outputId": "17e42ebc-44f3-4dfb-dafe-da763ae03ecc"
      },
      "outputs": [
        {
          "output_type": "execute_result",
          "data": {
            "text/plain": [
              "'A sole survivor tell twisti event lead horrif gun battl boat, begin five crimin meet seemingli random polic lineup.'"
            ],
            "application/vnd.google.colaboratory.intrinsic+json": {
              "type": "string"
            }
          },
          "metadata": {},
          "execution_count": 33
        }
      ],
      "source": [
        "string_def = def_res.iloc[0,0]\n",
        "string_def"
      ]
    },
    {
      "cell_type": "code",
      "execution_count": 34,
      "id": "6e8d1f6f-9c28-457c-aa9e-c26de6a74c35",
      "metadata": {
        "colab": {
          "base_uri": "https://localhost:8080/",
          "height": 80
        },
        "id": "6e8d1f6f-9c28-457c-aa9e-c26de6a74c35",
        "outputId": "7bf85145-60dd-4922-946d-6b1e5b2e08e5"
      },
      "outputs": [
        {
          "output_type": "execute_result",
          "data": {
            "text/plain": [
              "                 Title  Year                     Genre  Rating  \\\n",
              "41  The Usual Suspects  1995  Crime, Mystery, Thriller     8.5   \n",
              "\n",
              "                                             Overview  \n",
              "41  A sole survivor tell twisti event lead horrif ...  "
            ],
            "text/html": [
              "\n",
              "  <div id=\"df-706b57fd-0713-4bde-8d9c-4a9656346754\">\n",
              "    <div class=\"colab-df-container\">\n",
              "      <div>\n",
              "<style scoped>\n",
              "    .dataframe tbody tr th:only-of-type {\n",
              "        vertical-align: middle;\n",
              "    }\n",
              "\n",
              "    .dataframe tbody tr th {\n",
              "        vertical-align: top;\n",
              "    }\n",
              "\n",
              "    .dataframe thead th {\n",
              "        text-align: right;\n",
              "    }\n",
              "</style>\n",
              "<table border=\"1\" class=\"dataframe\">\n",
              "  <thead>\n",
              "    <tr style=\"text-align: right;\">\n",
              "      <th></th>\n",
              "      <th>Title</th>\n",
              "      <th>Year</th>\n",
              "      <th>Genre</th>\n",
              "      <th>Rating</th>\n",
              "      <th>Overview</th>\n",
              "    </tr>\n",
              "  </thead>\n",
              "  <tbody>\n",
              "    <tr>\n",
              "      <th>41</th>\n",
              "      <td>The Usual Suspects</td>\n",
              "      <td>1995</td>\n",
              "      <td>Crime, Mystery, Thriller</td>\n",
              "      <td>8.5</td>\n",
              "      <td>A sole survivor tell twisti event lead horrif ...</td>\n",
              "    </tr>\n",
              "  </tbody>\n",
              "</table>\n",
              "</div>\n",
              "      <button class=\"colab-df-convert\" onclick=\"convertToInteractive('df-706b57fd-0713-4bde-8d9c-4a9656346754')\"\n",
              "              title=\"Convert this dataframe to an interactive table.\"\n",
              "              style=\"display:none;\">\n",
              "        \n",
              "  <svg xmlns=\"http://www.w3.org/2000/svg\" height=\"24px\"viewBox=\"0 0 24 24\"\n",
              "       width=\"24px\">\n",
              "    <path d=\"M0 0h24v24H0V0z\" fill=\"none\"/>\n",
              "    <path d=\"M18.56 5.44l.94 2.06.94-2.06 2.06-.94-2.06-.94-.94-2.06-.94 2.06-2.06.94zm-11 1L8.5 8.5l.94-2.06 2.06-.94-2.06-.94L8.5 2.5l-.94 2.06-2.06.94zm10 10l.94 2.06.94-2.06 2.06-.94-2.06-.94-.94-2.06-.94 2.06-2.06.94z\"/><path d=\"M17.41 7.96l-1.37-1.37c-.4-.4-.92-.59-1.43-.59-.52 0-1.04.2-1.43.59L10.3 9.45l-7.72 7.72c-.78.78-.78 2.05 0 2.83L4 21.41c.39.39.9.59 1.41.59.51 0 1.02-.2 1.41-.59l7.78-7.78 2.81-2.81c.8-.78.8-2.07 0-2.86zM5.41 20L4 18.59l7.72-7.72 1.47 1.35L5.41 20z\"/>\n",
              "  </svg>\n",
              "      </button>\n",
              "      \n",
              "  <style>\n",
              "    .colab-df-container {\n",
              "      display:flex;\n",
              "      flex-wrap:wrap;\n",
              "      gap: 12px;\n",
              "    }\n",
              "\n",
              "    .colab-df-convert {\n",
              "      background-color: #E8F0FE;\n",
              "      border: none;\n",
              "      border-radius: 50%;\n",
              "      cursor: pointer;\n",
              "      display: none;\n",
              "      fill: #1967D2;\n",
              "      height: 32px;\n",
              "      padding: 0 0 0 0;\n",
              "      width: 32px;\n",
              "    }\n",
              "\n",
              "    .colab-df-convert:hover {\n",
              "      background-color: #E2EBFA;\n",
              "      box-shadow: 0px 1px 2px rgba(60, 64, 67, 0.3), 0px 1px 3px 1px rgba(60, 64, 67, 0.15);\n",
              "      fill: #174EA6;\n",
              "    }\n",
              "\n",
              "    [theme=dark] .colab-df-convert {\n",
              "      background-color: #3B4455;\n",
              "      fill: #D2E3FC;\n",
              "    }\n",
              "\n",
              "    [theme=dark] .colab-df-convert:hover {\n",
              "      background-color: #434B5C;\n",
              "      box-shadow: 0px 1px 3px 1px rgba(0, 0, 0, 0.15);\n",
              "      filter: drop-shadow(0px 1px 2px rgba(0, 0, 0, 0.3));\n",
              "      fill: #FFFFFF;\n",
              "    }\n",
              "  </style>\n",
              "\n",
              "      <script>\n",
              "        const buttonEl =\n",
              "          document.querySelector('#df-706b57fd-0713-4bde-8d9c-4a9656346754 button.colab-df-convert');\n",
              "        buttonEl.style.display =\n",
              "          google.colab.kernel.accessAllowed ? 'block' : 'none';\n",
              "\n",
              "        async function convertToInteractive(key) {\n",
              "          const element = document.querySelector('#df-706b57fd-0713-4bde-8d9c-4a9656346754');\n",
              "          const dataTable =\n",
              "            await google.colab.kernel.invokeFunction('convertToInteractive',\n",
              "                                                     [key], {});\n",
              "          if (!dataTable) return;\n",
              "\n",
              "          const docLinkHtml = 'Like what you see? Visit the ' +\n",
              "            '<a target=\"_blank\" href=https://colab.research.google.com/notebooks/data_table.ipynb>data table notebook</a>'\n",
              "            + ' to learn more about interactive tables.';\n",
              "          element.innerHTML = '';\n",
              "          dataTable['output_type'] = 'display_data';\n",
              "          await google.colab.output.renderOutput(dataTable, element);\n",
              "          const docLink = document.createElement('div');\n",
              "          docLink.innerHTML = docLinkHtml;\n",
              "          element.appendChild(docLink);\n",
              "        }\n",
              "      </script>\n",
              "    </div>\n",
              "  </div>\n",
              "  "
            ]
          },
          "metadata": {},
          "execution_count": 34
        }
      ],
      "source": [
        "df[df.eq(string_def).any(1)]"
      ]
    },
    {
      "cell_type": "markdown",
      "id": "48ef9407-04f6-438c-b3d0-fb057640ad7c",
      "metadata": {
        "id": "48ef9407-04f6-438c-b3d0-fb057640ad7c"
      },
      "source": [
        " \n",
        "\n",
        "---\n",
        "\n",
        "\n",
        "\n",
        "---\n",
        "\n"
      ]
    },
    {
      "cell_type": "markdown",
      "id": "7c5d56bf-0022-482d-9238-1e461aad4e31",
      "metadata": {
        "id": "7c5d56bf-0022-482d-9238-1e461aad4e31"
      },
      "source": [
        "So someone has searched for a film with a 'battle' in it and also a 'survivor'. The best matched result is given above."
      ]
    },
    {
      "cell_type": "markdown",
      "id": "885ef542-eea1-4eef-a137-5c023c2beaaf",
      "metadata": {
        "id": "885ef542-eea1-4eef-a137-5c023c2beaaf"
      },
      "source": [
        "This is a prototype and therefore very simple. The final prototype would list more movie matches."
      ]
    },
    {
      "cell_type": "markdown",
      "id": "553d5dce-a20d-400e-b82f-3dba6a9e2238",
      "metadata": {
        "id": "553d5dce-a20d-400e-b82f-3dba6a9e2238"
      },
      "source": [
        "\n",
        "\n",
        "---\n",
        "\n",
        "\n",
        "\n",
        "---\n",
        "\n"
      ]
    },
    {
      "cell_type": "code",
      "source": [
        ""
      ],
      "metadata": {
        "id": "Y2OTdWJDjdjO"
      },
      "id": "Y2OTdWJDjdjO",
      "execution_count": 34,
      "outputs": []
    }
  ],
  "metadata": {
    "kernelspec": {
      "display_name": "Python 3 (ipykernel)",
      "language": "python",
      "name": "python3"
    },
    "language_info": {
      "codemirror_mode": {
        "name": "ipython",
        "version": 3
      },
      "file_extension": ".py",
      "mimetype": "text/x-python",
      "name": "python",
      "nbconvert_exporter": "python",
      "pygments_lexer": "ipython3",
      "version": "3.9.7"
    },
    "colab": {
      "name": "Prototype1.ipynb",
      "provenance": []
    }
  },
  "nbformat": 4,
  "nbformat_minor": 5
}